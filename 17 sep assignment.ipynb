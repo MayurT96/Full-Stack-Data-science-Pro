{
 "cells": [
  {
   "cell_type": "code",
   "execution_count": 1,
   "id": "ea61f9ca-6cc7-4c7f-a2a6-efe74c8d8c4c",
   "metadata": {},
   "outputs": [
    {
     "name": "stdout",
     "output_type": "stream",
     "text": [
      "1\n",
      "2\n",
      "3\n",
      "4\n",
      "5\n",
      "6\n",
      "7\n",
      "8\n",
      "9\n",
      "10\n"
     ]
    }
   ],
   "source": [
    "for num in range(1, 11):\n",
    "    print(num)\n"
   ]
  },
  {
   "cell_type": "code",
   "execution_count": 3,
   "id": "a17733fd-73ff-492c-ad19-6bc8ae282c6a",
   "metadata": {},
   "outputs": [
    {
     "name": "stdout",
     "output_type": "stream",
     "text": [
      "1\n",
      "2\n",
      "3\n",
      "4\n",
      "5\n",
      "6\n",
      "7\n",
      "8\n",
      "9\n",
      "10\n"
     ]
    }
   ],
   "source": [
    "num = 1\n",
    "while num <= 10:\n",
    "    print(num)\n",
    "    num += 1\n"
   ]
  },
  {
   "cell_type": "code",
   "execution_count": 4,
   "id": "10ea4c01-eef3-47d5-9913-723fa352d681",
   "metadata": {},
   "outputs": [
    {
     "name": "stdout",
     "output_type": "stream",
     "text": [
      "5050\n"
     ]
    }
   ],
   "source": [
    "total = 0\n",
    "for num in range(1, 101):\n",
    "    total += num\n",
    "print(total)\n"
   ]
  },
  {
   "cell_type": "code",
   "execution_count": 5,
   "id": "90e8c1f3-2cee-48dd-83c5-3b3da11a78a4",
   "metadata": {},
   "outputs": [
    {
     "name": "stdout",
     "output_type": "stream",
     "text": [
      "1\n",
      "2\n",
      "3\n",
      "4\n",
      "5\n"
     ]
    }
   ],
   "source": [
    "my_list = [1, 2, 3, 4, 5]\n",
    "\n",
    "for item in my_list:\n",
    "    print(item)\n"
   ]
  },
  {
   "cell_type": "code",
   "execution_count": 6,
   "id": "eec6c8c1-15cc-4d37-8bee-bcae6e34d978",
   "metadata": {},
   "outputs": [
    {
     "name": "stdout",
     "output_type": "stream",
     "text": [
      "1\n",
      "2\n",
      "3\n",
      "4\n",
      "5\n"
     ]
    }
   ],
   "source": [
    "for i in range(len(my_list)):\n",
    "    print(my_list[i])\n"
   ]
  },
  {
   "cell_type": "code",
   "execution_count": 7,
   "id": "cc0eea20-bb63-449d-bc60-f193f143d031",
   "metadata": {},
   "outputs": [
    {
     "name": "stdout",
     "output_type": "stream",
     "text": [
      "The product of all elements in the list [2, 3, 4, 5, 6] is **720**.\n"
     ]
    }
   ],
   "source": [
    "my_list = [2, 3, 4, 5, 6]\n",
    "product = 1\n",
    "\n",
    "for num in my_list:\n",
    "    product *= num\n",
    "\n",
    "print(f\"The product of all elements in the list {my_list} is **{product}**.\")\n"
   ]
  },
  {
   "cell_type": "code",
   "execution_count": 8,
   "id": "ec9a6177-1ca4-4cb0-8955-635ccb7bcb68",
   "metadata": {},
   "outputs": [
    {
     "name": "stdout",
     "output_type": "stream",
     "text": [
      "2\n",
      "4\n",
      "6\n",
      "8\n",
      "10\n",
      "12\n",
      "14\n",
      "16\n",
      "18\n",
      "20\n"
     ]
    }
   ],
   "source": [
    "for num in range(2, 21, 2):\n",
    "    print(num)\n"
   ]
  },
  {
   "cell_type": "code",
   "execution_count": 9,
   "id": "a6172174-cedf-49df-b885-e8a722cbcdab",
   "metadata": {},
   "outputs": [
    {
     "name": "stdout",
     "output_type": "stream",
     "text": [
      "The factorial of 7 is **5040**.\n"
     ]
    }
   ],
   "source": [
    "num = 7\n",
    "factorial = 1\n",
    "\n",
    "for i in range(1, num + 1):\n",
    "    factorial *= i\n",
    "\n",
    "print(f\"The factorial of {num} is **{factorial}**.\")\n"
   ]
  },
  {
   "cell_type": "code",
   "execution_count": 10,
   "id": "fbd28c66-81b1-42dd-b762-1a0e2bb86a06",
   "metadata": {},
   "outputs": [
    {
     "name": "stdout",
     "output_type": "stream",
     "text": [
      "H\n",
      "e\n",
      "l\n",
      "l\n",
      "o\n",
      ",\n",
      " \n",
      "W\n",
      "o\n",
      "r\n",
      "l\n",
      "d\n",
      "!\n"
     ]
    }
   ],
   "source": [
    "my_string = \"Hello, World!\"\n",
    "\n",
    "for char in my_string:\n",
    "    print(char)\n"
   ]
  },
  {
   "cell_type": "code",
   "execution_count": 11,
   "id": "0aea1cd4-f4ef-4c59-83cd-a45e3ad6113b",
   "metadata": {},
   "outputs": [
    {
     "name": "stdout",
     "output_type": "stream",
     "text": [
      "H\n",
      "e\n",
      "l\n",
      "l\n",
      "o\n",
      ",\n",
      " \n",
      "W\n",
      "o\n",
      "r\n",
      "l\n",
      "d\n",
      "!\n"
     ]
    }
   ],
   "source": [
    "for i in range(len(my_string)):\n",
    "    print(my_string[i])\n"
   ]
  },
  {
   "cell_type": "code",
   "execution_count": 12,
   "id": "9dbb4034-f608-4027-aab6-51f52d1c55d5",
   "metadata": {},
   "outputs": [
    {
     "name": "stdout",
     "output_type": "stream",
     "text": [
      "H\n",
      "e\n",
      "l\n",
      "l\n",
      "o\n",
      ",\n",
      " \n",
      "W\n",
      "o\n",
      "r\n",
      "l\n",
      "d\n",
      "!\n"
     ]
    }
   ],
   "source": [
    "for i in range(len(my_string)):\n",
    "    print(my_string[i])\n"
   ]
  },
  {
   "cell_type": "code",
   "execution_count": 13,
   "id": "04666547-21cb-4211-9705-f6324b55a521",
   "metadata": {},
   "outputs": [
    {
     "name": "stdout",
     "output_type": "stream",
     "text": [
      "The largest number in the list [3, 10, 90, 5, -2, 4, 18, 45, 100, 1, 6] is **100**.\n"
     ]
    }
   ],
   "source": [
    "my_list = [3, 10, 90, 5, -2, 4, 18, 45, 100, 1, 6]\n",
    "largest = my_list[0]\n",
    "\n",
    "for num in my_list:\n",
    "    if num > largest:\n",
    "        largest = num\n",
    "\n",
    "print(f\"The largest number in the list {my_list} is **{largest}**.\")\n"
   ]
  },
  {
   "cell_type": "code",
   "execution_count": 14,
   "id": "d72280b5-4bf2-49ad-8b79-a7e7f622036d",
   "metadata": {},
   "outputs": [
    {
     "name": "stdout",
     "output_type": "stream",
     "text": [
      "The Fibonacci sequence up to 10 is **[0, 1, 1, 2, 3, 5, 8, 13, 21, 34]**.\n"
     ]
    }
   ],
   "source": [
    "n = 10\n",
    "fibonacci_series = [0, 1]\n",
    "\n",
    "for i in range(2, n):\n",
    "    next_element = fibonacci_series[i-1] + fibonacci_series[i-2]\n",
    "    fibonacci_series.append(next_element)\n",
    "\n",
    "print(f\"The Fibonacci sequence up to {n} is **{fibonacci_series}**.\")\n"
   ]
  },
  {
   "cell_type": "code",
   "execution_count": 15,
   "id": "5b53c2d7-c20f-46d6-a656-b81c8c4b0faa",
   "metadata": {},
   "outputs": [
    {
     "name": "stdout",
     "output_type": "stream",
     "text": [
      "The string 'Hello, World!' contains **3** vowels.\n"
     ]
    }
   ],
   "source": [
    "string = \"Hello, World!\"\n",
    "vowels = \"aeiouAEIOU\"\n",
    "count = 0\n",
    "\n",
    "for char in string:\n",
    "    if char in vowels:\n",
    "        count += 1\n",
    "\n",
    "print(f\"The string '{string}' contains **{count}** vowels.\")\n",
    "\n"
   ]
  },
  {
   "cell_type": "code",
   "execution_count": 16,
   "id": "bba09db7-071f-4cda-b526-5779397b97b5",
   "metadata": {},
   "outputs": [
    {
     "name": "stdout",
     "output_type": "stream",
     "text": [
      "5 x 1 = 5\n",
      "5 x 2 = 10\n",
      "5 x 3 = 15\n",
      "5 x 4 = 20\n",
      "5 x 5 = 25\n",
      "5 x 6 = 30\n",
      "5 x 7 = 35\n",
      "5 x 8 = 40\n",
      "5 x 9 = 45\n",
      "5 x 10 = 50\n"
     ]
    }
   ],
   "source": [
    "num = 5\n",
    "\n",
    "for i in range(1, 11):\n",
    "    print(f\"{num} x {i} = {num * i}\")\n",
    "\n",
    "    "
   ]
  },
  {
   "cell_type": "code",
   "execution_count": 17,
   "id": "08141b5a-fbcf-4ca5-80fc-d4ae6125a6e2",
   "metadata": {},
   "outputs": [
    {
     "name": "stdout",
     "output_type": "stream",
     "text": [
      "The original list: [1, 2, 3, 4, 5]\n",
      "The reversed list: [5, 4, 3, 2, 1]\n"
     ]
    }
   ],
   "source": [
    "my_list = [1, 2, 3, 4, 5]\n",
    "reversed_list = []\n",
    "\n",
    "for i in range(len(my_list)-1, -1, -1):\n",
    "    reversed_list.append(my_list[i])\n",
    "\n",
    "print(f\"The original list: {my_list}\")\n",
    "print(f\"The reversed list: {reversed_list}\")\n"
   ]
  },
  {
   "cell_type": "code",
   "execution_count": 18,
   "id": "e8aa331c-bbcb-49b3-b0b4-78310135bdcf",
   "metadata": {},
   "outputs": [
    {
     "name": "stdout",
     "output_type": "stream",
     "text": [
      "The common elements between [1, 2, 3, 4, 5] and [4, 5, 6, 7, 8] are **[4, 5]**.\n"
     ]
    }
   ],
   "source": [
    "list1 = [1, 2, 3, 4, 5]\n",
    "list2 = [4, 5, 6, 7, 8]\n",
    "common_elements = []\n",
    "\n",
    "for num in list1:\n",
    "    if num in list2:\n",
    "        common_elements.append(num)\n",
    "\n",
    "print(f\"The common elements between {list1} and {list2} are **{common_elements}**.\")\n"
   ]
  },
  {
   "cell_type": "code",
   "execution_count": 20,
   "id": "cd88dc9f-e397-4daa-9c21-ca3d105bd4b9",
   "metadata": {},
   "outputs": [
    {
     "name": "stdout",
     "output_type": "stream",
     "text": [
      "apple 1\n",
      "banana 2\n",
      "cherry 3\n"
     ]
    }
   ],
   "source": [
    "my_dict = {\"apple\": 1, \"banana\": 2, \"cherry\": 3}\n",
    "\n",
    "for key, value in my_dict.items():\n",
    "    print(key, value)\n"
   ]
  },
  {
   "cell_type": "code",
   "execution_count": 21,
   "id": "a6049ee2-de3e-4c89-8082-ff2c6976a32e",
   "metadata": {},
   "outputs": [
    {
     "name": "stdout",
     "output_type": "stream",
     "text": [
      "apple\n",
      "banana\n",
      "cherry\n",
      "1\n",
      "2\n",
      "3\n"
     ]
    }
   ],
   "source": [
    "my_dict = {\"apple\": 1, \"banana\": 2, \"cherry\": 3}\n",
    "\n",
    "for key in my_dict.keys():\n",
    "    print(key)\n",
    "\n",
    "for value in my_dict.values():\n",
    "    print(value)\n"
   ]
  },
  {
   "cell_type": "code",
   "execution_count": 22,
   "id": "449cba53-5920-411a-a797-379b2b6a9158",
   "metadata": {},
   "outputs": [
    {
     "name": "stdout",
     "output_type": "stream",
     "text": [
      "The GCD of 60 and 48 is **12**.\n"
     ]
    }
   ],
   "source": [
    "num1 = 60\n",
    "num2 = 48\n",
    "gcd = 1\n",
    "\n",
    "for i in range(1, min(num1, num2) + 1):\n",
    "    if num1 % i == 0 and num2 % i == 0:\n",
    "        gcd = i\n",
    "\n",
    "print(f\"The GCD of {num1} and {num2} is **{gcd}**.\")\n"
   ]
  },
  {
   "cell_type": "code",
   "execution_count": 23,
   "id": "51926d19-91f3-4db6-8685-3aaafd3837cc",
   "metadata": {},
   "outputs": [
    {
     "name": "stdout",
     "output_type": "stream",
     "text": [
      "The string 'racecar' is a **palindrome**.\n"
     ]
    }
   ],
   "source": [
    "string = \"racecar\"\n",
    "is_palindrome = True\n",
    "\n",
    "for i in range(len(string)):\n",
    "    if string[i] != string[len(string)-i-1]:\n",
    "        is_palindrome = False\n",
    "        break\n",
    "\n",
    "if is_palindrome:\n",
    "    print(f\"The string '{string}' is a **palindrome**.\")\n",
    "else:\n",
    "    print(f\"The string '{string}' is **not a palindrome**.\")\n"
   ]
  },
  {
   "cell_type": "code",
   "execution_count": 24,
   "id": "2f6f243e-ffae-47e7-b519-8ecebbd57978",
   "metadata": {},
   "outputs": [
    {
     "name": "stdout",
     "output_type": "stream",
     "text": [
      "The original list: [1, 2, 3, 2, 4, 5, 4, 6, 7, 8, 7]\n",
      "The list with duplicates removed: [1, 2, 3, 4, 5, 6, 7, 8]\n"
     ]
    }
   ],
   "source": [
    "my_list = [1, 2, 3, 2, 4, 5, 4, 6, 7, 8, 7]\n",
    "new_list = []\n",
    "\n",
    "for num in my_list:\n",
    "    if num not in new_list:\n",
    "        new_list.append(num)\n",
    "\n",
    "print(f\"The original list: {my_list}\")\n",
    "print(f\"The list with duplicates removed: {new_list}\")\n"
   ]
  },
  {
   "cell_type": "code",
   "execution_count": 25,
   "id": "2ae784fe-bd26-4fc7-a68b-c6d6ac08dcb6",
   "metadata": {},
   "outputs": [
    {
     "name": "stdout",
     "output_type": "stream",
     "text": [
      "apple 1\n",
      "banana 2\n",
      "cherry 3\n"
     ]
    }
   ],
   "source": [
    "my_dict = {\"apple\": 1, \"banana\": 2, \"cherry\": 3}\n",
    "\n",
    "for key, value in my_dict.items():\n",
    "    print(key, value)\n"
   ]
  },
  {
   "cell_type": "code",
   "execution_count": 26,
   "id": "e26d7151-08bf-4c3d-bcea-4ed89b7135db",
   "metadata": {},
   "outputs": [
    {
     "name": "stdout",
     "output_type": "stream",
     "text": [
      "apple\n",
      "banana\n",
      "cherry\n",
      "1\n",
      "2\n",
      "3\n"
     ]
    }
   ],
   "source": [
    "my_dict = {\"apple\": 1, \"banana\": 2, \"cherry\": 3}\n",
    "\n",
    "for key in my_dict.keys():\n",
    "    print(key)\n",
    "\n",
    "for value in my_dict.values():\n",
    "    print(value)\n"
   ]
  },
  {
   "cell_type": "code",
   "execution_count": 27,
   "id": "c9c77704-1d48-4aa5-8bc9-4e26eb258374",
   "metadata": {},
   "outputs": [
    {
     "name": "stdout",
     "output_type": "stream",
     "text": [
      "The GCD of 60 and 48 is **12**.\n"
     ]
    }
   ],
   "source": [
    "num1 = 60\n",
    "num2 = 48\n",
    "gcd = 1\n",
    "\n",
    "for i in range(1, min(num1, num2) + 1):\n",
    "    if num1 % i == 0 and num2 % i == 0:\n",
    "        gcd = i\n",
    "\n",
    "print(f\"The GCD of {num1} and {num2} is **{gcd}**.\")\n"
   ]
  },
  {
   "cell_type": "code",
   "execution_count": 29,
   "id": "28639aab-135a-4f4b-ab5b-c0ab59c234b7",
   "metadata": {},
   "outputs": [
    {
     "name": "stdout",
     "output_type": "stream",
     "text": [
      "The GCD of 60 and 48 is **12**.\n"
     ]
    }
   ],
   "source": [
    "num1 = 60\n",
    "num2 = 48\n",
    "gcd = 6\n",
    "\n",
    "for i in range(1, min(num1, num2) + 1):\n",
    "    if num1 % i == 0 and num2 % i == 0:\n",
    "        gcd = i\n",
    "\n",
    "print(f\"The GCD of {num1} and {num2} is **{gcd}**.\")\n"
   ]
  },
  {
   "cell_type": "code",
   "execution_count": 30,
   "id": "ebefed89-3308-4e87-8ed2-d207ef6c87c4",
   "metadata": {},
   "outputs": [
    {
     "name": "stdout",
     "output_type": "stream",
     "text": [
      "The sentence 'The quick brown fox jumps over the lazy dog.' contains **9** words.\n"
     ]
    }
   ],
   "source": [
    "sentence = \"The quick brown fox jumps over the lazy dog.\"\n",
    "word_count = 0\n",
    "\n",
    "for char in sentence:\n",
    "    if char == \" \":\n",
    "        word_count += 1\n",
    "\n",
    "word_count += 1\n",
    "\n",
    "print(f\"The sentence '{sentence}' contains **{word_count}** words.\")\n"
   ]
  },
  {
   "cell_type": "code",
   "execution_count": null,
   "id": "1da814b4-e7ae-4ccb-9242-0b1e89bfb501",
   "metadata": {},
   "outputs": [],
   "source": []
  },
  {
   "cell_type": "code",
   "execution_count": null,
   "id": "59346161-07d1-495c-b7f3-c89bdb1ae452",
   "metadata": {},
   "outputs": [],
   "source": []
  }
 ],
 "metadata": {
  "kernelspec": {
   "display_name": "Python 3 (ipykernel)",
   "language": "python",
   "name": "python3"
  },
  "language_info": {
   "codemirror_mode": {
    "name": "ipython",
    "version": 3
   },
   "file_extension": ".py",
   "mimetype": "text/x-python",
   "name": "python",
   "nbconvert_exporter": "python",
   "pygments_lexer": "ipython3",
   "version": "3.10.8"
  }
 },
 "nbformat": 4,
 "nbformat_minor": 5
}
