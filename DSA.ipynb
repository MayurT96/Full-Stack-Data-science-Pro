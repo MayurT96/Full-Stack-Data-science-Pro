{
 "cells": [
  {
   "cell_type": "code",
   "execution_count": 24,
   "metadata": {},
   "outputs": [
    {
     "name": "stdout",
     "output_type": "stream",
     "text": [
      "5 -> 4 -> 3 -> 2 -> 1 -> None\n"
     ]
    }
   ],
   "source": [
    "class Node:\n",
    "    def __init__(self, data):\n",
    "        self.data = data\n",
    "        self.next = None\n",
    "\n",
    "def reverse_list(head):\n",
    "    prev = None\n",
    "    current = head\n",
    "    while current:\n",
    "        next = current.next\n",
    "        current.next = prev\n",
    "        prev = current\n",
    "        current = next\n",
    "    return prev\n",
    "\n",
    "# Create a sample linked list: 1 -> 2 -> 3 -> 4 -> 5\n",
    "head = Node(1)\n",
    "head.next = Node(2)\n",
    "head.next.next = Node(3)\n",
    "head.next.next.next = Node(4)\n",
    "head.next.next.next.next = Node(5)\n",
    "\n",
    "# Reverse the linked list\n",
    "new_head = reverse_list(head)\n",
    "\n",
    "# Print the reversed linked list\n",
    "while new_head:\n",
    "    print(new_head.data, end=\" -> \")\n",
    "    new_head = new_head.next\n",
    "print(\"None\")"
   ]
  },
  {
   "cell_type": "code",
   "execution_count": 25,
   "metadata": {},
   "outputs": [
    {
     "name": "stdout",
     "output_type": "stream",
     "text": [
      "1 -> 2 -> 3 -> 4 -> 5 -> 6 -> None\n"
     ]
    }
   ],
   "source": [
    "class Node:\n",
    "    def __init__(self, data):\n",
    "        self.data = data\n",
    "        self.next = None\n",
    "\n",
    "def merge_lists(head1, head2):\n",
    "    dummy = Node(0)\n",
    "    current = dummy\n",
    "\n",
    "    while head1 and head2:\n",
    "        if head1.data < head2.data:\n",
    "            current.next = head1\n",
    "            head1 = head1.next\n",
    "        else:\n",
    "            current.next = head2\n",
    "            head2 = head2.next\n",
    "        current = current.next\n",
    "\n",
    "    # Append the remaining nodes from either list\n",
    "    if head1:\n",
    "        current.next = head1\n",
    "    elif head2:\n",
    "        current.next = head2\n",
    "\n",
    "    return dummy.next\n",
    "\n",
    "# Create two sample sorted linked lists\n",
    "head1 = Node(1)\n",
    "head1.next = Node(3)\n",
    "head1.next.next = Node(5)\n",
    "\n",
    "head2 = Node(2)\n",
    "head2.next = Node(4)\n",
    "head2.next.next = Node(6)\n",
    "\n",
    "# Merge the two lists\n",
    "merged_head = merge_lists(head1, head2)\n",
    "\n",
    "# Print the merged list\n",
    "while merged_head:\n",
    "    print(merged_head.data, end=\" -> \")\n",
    "    merged_head = merged_head.next\n",
    "print(\"None\")"
   ]
  },
  {
   "cell_type": "code",
   "execution_count": 26,
   "metadata": {},
   "outputs": [
    {
     "name": "stdout",
     "output_type": "stream",
     "text": [
      "1 -> 2 -> 3 -> 5 -> None\n"
     ]
    }
   ],
   "source": [
    "class Node:\n",
    "    def __init__(self, data):\n",
    "        self.data = data\n",
    "        self.next = None\n",
    "\n",
    "def remove_nth_from_end(head, n):\n",
    "    main = head\n",
    "    ref = head\n",
    "\n",
    "    # Move ref pointer n nodes ahead\n",
    "    for _ in range(n):\n",
    "        ref = ref.next\n",
    "        if ref is None:\n",
    "            # If n is greater than the length of the list, return the original list\n",
    "            return head\n",
    "\n",
    "    # Move both pointers until ref reaches the end\n",
    "    while ref.next:\n",
    "        main = main.next\n",
    "        ref = ref.next\n",
    "\n",
    "    # Remove the node pointed to by main\n",
    "    main.next = main.next.next\n",
    "    return head\n",
    "\n",
    "# Create a sample linked list: 1 -> 2 -> 3 -> 4 -> 5\n",
    "head = Node(1)\n",
    "head.next = Node(2)\n",
    "head.next.next = Node(3)\n",
    "head.next.next.next = Node(4)\n",
    "head.next.next.next.next = Node(5)\n",
    "\n",
    "# Remove the 2nd node from the end\n",
    "new_head = remove_nth_from_end(head, 2)\n",
    "\n",
    "# Print the modified list\n",
    "while new_head:\n",
    "    print(new_head.data, end=\" -> \")\n",
    "    new_head = new_head.next\n",
    "print(\"None\")"
   ]
  },
  {
   "cell_type": "code",
   "execution_count": 27,
   "metadata": {},
   "outputs": [
    {
     "name": "stdout",
     "output_type": "stream",
     "text": [
      "Intersection point: 8\n"
     ]
    }
   ],
   "source": [
    "class Node:\n",
    "    def __init__(self, data):\n",
    "        self.data = data\n",
    "        self.next = None\n",
    "\n",
    "def find_intersection(head1, head2):\n",
    "    node_set = set()\n",
    "    current = head1\n",
    "    while current:\n",
    "        node_set.add(current)\n",
    "        current = current.next\n",
    "\n",
    "    current = head2\n",
    "    while current:\n",
    "        if current in node_set:\n",
    "            return current\n",
    "        current = current.next\n",
    "\n",
    "    return None\n",
    "\n",
    "# Create two sample linked lists with an intersection point\n",
    "head1 = Node(4)\n",
    "head1.next = Node(1)\n",
    "head1.next.next = Node(8)\n",
    "head1.next.next.next = Node(4)\n",
    "head1.next.next.next.next = Node(5)\n",
    "\n",
    "head2 = Node(5)\n",
    "head2.next = Node(0)\n",
    "head2.next.next = Node(1)\n",
    "head2.next.next.next = head1.next.next  # Intersection point\n",
    "\n",
    "intersection = find_intersection(head1, head2)\n",
    "if intersection:\n",
    "    print(\"Intersection point:\", intersection.data)\n",
    "else:\n",
    "    print(\"No intersection point found\")"
   ]
  },
  {
   "cell_type": "code",
   "execution_count": 28,
   "metadata": {},
   "outputs": [
    {
     "name": "stdout",
     "output_type": "stream",
     "text": [
      "1 -> 2 -> 3 -> 4 -> 5 -> None\n"
     ]
    }
   ],
   "source": [
    "class Node:\n",
    "    def __init__(self, data):\n",
    "        self.data = data\n",
    "        self.next = None\n",
    "\n",
    "def remove_duplicates(head):\n",
    "    current = head\n",
    "    while current and current.next:\n",
    "        if current.data == current.next.data:\n",
    "            current.next = current.next.next\n",
    "        else:\n",
    "            current = current.next\n",
    "    return head\n",
    "\n",
    "# Create a sample sorted linked list with duplicates\n",
    "head = Node(1)\n",
    "head.next = Node(1)\n",
    "head.next.next = Node(2)\n",
    "head.next.next.next = Node(3)\n",
    "head.next.next.next.next = Node(3)\n",
    "head.next.next.next.next.next = Node(4)\n",
    "head.next.next.next.next.next.next = Node(5)\n",
    "head.next.next.next.next.next.next.next = Node(5)\n",
    "\n",
    "# Remove duplicates\n",
    "new_head = remove_duplicates(head)\n",
    "\n",
    "# Print the modified list\n",
    "while new_head:\n",
    "    print(new_head.data, end=\" -> \")\n",
    "    new_head = new_head.next\n",
    "print(\"None\")"
   ]
  },
  {
   "cell_type": "code",
   "execution_count": 29,
   "metadata": {},
   "outputs": [
    {
     "name": "stdout",
     "output_type": "stream",
     "text": [
      "2 -> 1 -> 4 -> 3 -> None\n"
     ]
    }
   ],
   "source": [
    "class Node:\n",
    "    def __init__(self, data):\n",
    "        self.data = data\n",
    "        self.next = None\n",
    "\n",
    "def swap_pairs(head):\n",
    "    if not head or not head.next:\n",
    "        return head\n",
    "\n",
    "    new_head = head.next\n",
    "    prev = None\n",
    "    current = head\n",
    "\n",
    "    while current and current.next:\n",
    "        next = current.next\n",
    "\n",
    "        # Swap current and next nodes\n",
    "        current.next = next.next\n",
    "        next.next = current\n",
    "\n",
    "        if prev:\n",
    "            prev.next = next\n",
    "        else:\n",
    "            head = next\n",
    "\n",
    "        prev = current\n",
    "        current = current.next\n",
    "\n",
    "    return head\n",
    "\n",
    "# Create a sample linked list\n",
    "head = Node(1)\n",
    "head.next = Node(2)\n",
    "head.next.next = Node(3)\n",
    "head.next.next.next = Node(4)\n",
    "\n",
    "# Swap nodes in pairs\n",
    "new_head = swap_pairs(head)\n",
    "\n",
    "# Print the modified list\n",
    "while new_head:\n",
    "    print(new_head.data, end=\" -> \")\n",
    "    new_head = new_head.next\n",
    "print(\"None\")"
   ]
  },
  {
   "cell_type": "code",
   "execution_count": 30,
   "metadata": {},
   "outputs": [
    {
     "name": "stdout",
     "output_type": "stream",
     "text": [
      "7 -> 0 -> 8 -> None\n"
     ]
    }
   ],
   "source": [
    "class Node:\n",
    "    def __init__(self, data):\n",
    "        self.data = data\n",
    "        self.next = None\n",
    "\n",
    "def add_lists(l1, l2):\n",
    "    p1 = l1\n",
    "    p2 = l2\n",
    "    p3 = Node(0)  # dummy node\n",
    "    current = p3\n",
    "    carry = 0\n",
    "\n",
    "    while p1 or p2 or carry:\n",
    "        sum = carry\n",
    "        if p1:\n",
    "            sum += p1.data\n",
    "            p1 = p1.next\n",
    "        if p2:\n",
    "            sum += p2.data\n",
    "            p2 = p2.next\n",
    "\n",
    "        carry = sum // 10\n",
    "        digit = sum % 10\n",
    "        current.next = Node(digit)\n",
    "        current = current.next\n",
    "\n",
    "    return p3.next\n",
    "\n",
    "# Create two sample linked lists\n",
    "l1 = Node(2)\n",
    "l1.next = Node(4)\n",
    "l1.next.next = Node(3)\n",
    "\n",
    "l2 = Node(5)\n",
    "l2.next = Node(6)\n",
    "l2.next.next = Node(4)\n",
    "\n",
    "# Add the two lists\n",
    "result = add_lists(l1, l2)\n",
    "\n",
    "# Print the result\n",
    "while result:\n",
    "    print(result.data, end=\" -> \")\n",
    "    result = result.next\n",
    "print(\"None\")"
   ]
  }
 ],
 "metadata": {
  "kernelspec": {
   "display_name": "Python 3",
   "language": "python",
   "name": "python3"
  },
  "language_info": {
   "codemirror_mode": {
    "name": "ipython",
    "version": 3
   },
   "file_extension": ".py",
   "mimetype": "text/x-python",
   "name": "python",
   "nbconvert_exporter": "python",
   "pygments_lexer": "ipython3",
   "version": "3.11.9"
  }
 },
 "nbformat": 4,
 "nbformat_minor": 2
}
