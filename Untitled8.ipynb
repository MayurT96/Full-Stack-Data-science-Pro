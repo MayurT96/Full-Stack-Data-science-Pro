{
  "nbformat": 4,
  "nbformat_minor": 0,
  "metadata": {
    "colab": {
      "provenance": [],
      "toc_visible": true
    },
    "kernelspec": {
      "name": "python3",
      "display_name": "Python 3"
    },
    "language_info": {
      "name": "python"
    }
  },
  "cells": [
    {
      "cell_type": "code",
      "execution_count": 2,
      "metadata": {
        "colab": {
          "base_uri": "https://localhost:8080/"
        },
        "id": "I1HbhRF6i61v",
        "outputId": "57a234b6-e524-4554-e686-29c1b424fb75"
      },
      "outputs": [
        {
          "output_type": "stream",
          "name": "stdout",
          "text": [
            "GeekforGeeks\n"
          ]
        }
      ],
      "source": [
        "class GeekforGeeks:\n",
        "    def __init__(self):\n",
        "        self.geek = \"GeekforGeeks\"\n",
        "\n",
        "    def print_Geek(self):\n",
        "        print(self.geek)\n",
        "\n",
        "obj = GeekforGeeks()\n",
        "obj.print_Geek()  # Output: GeekforGeeks\n"
      ]
    },
    {
      "cell_type": "code",
      "source": [
        "class Addition:\n",
        "    def __init__(self, f, s):\n",
        "        self.first = f\n",
        "        self.second = s\n",
        "\n",
        "    def display(self):\n",
        "        print(\"First number =\", self.first)\n",
        "        print(\"Second number =\", self.second)\n",
        "        print(\"Addition of two numbers =\", self.answer)\n",
        "\n",
        "    def calculate(self):\n",
        "        self.answer = self.first + self.second\n",
        "\n",
        "obj1 = Addition(1000, 2000)\n",
        "obj2 = Addition(10, 20)\n",
        "obj1.calculate()\n",
        "obj2.calculate()\n",
        "obj1.display()  # Output: First number = 1000, Second number = 2000, Addition of two numbers = 3000\n",
        "obj2.display()  # Output: First number = 10, Second number = 20, Addition of two numbers = 30\n"
      ],
      "metadata": {
        "colab": {
          "base_uri": "https://localhost:8080/"
        },
        "id": "7ATWamYdj88G",
        "outputId": "a54d8846-7b7e-4908-c000-d977c7f3e29e"
      },
      "execution_count": 3,
      "outputs": [
        {
          "output_type": "stream",
          "name": "stdout",
          "text": [
            "First number = 1000\n",
            "Second number = 2000\n",
            "Addition of two numbers = 3000\n",
            "First number = 10\n",
            "Second number = 20\n",
            "Addition of two numbers = 30\n"
          ]
        }
      ]
    },
    {
      "cell_type": "code",
      "source": [
        "class MyClass:\n",
        "    def __init__(self, name=None):\n",
        "        if name is None:\n",
        "            print(\"Default constructor called\")\n",
        "        else:\n",
        "            self.name = name\n",
        "            print(\"Parameterized constructor called with name\", self.name)\n",
        "\n",
        "    def method(self):\n",
        "        if hasattr(self, 'name'):\n",
        "            print(\"Method called with name\", self.name)\n",
        "        else:\n",
        "            print(\"Method called without a name\")\n",
        "\n",
        "obj1 = MyClass()\n",
        "obj1.method()  # Output: Default constructor called, Method called without a name\n",
        "\n",
        "obj2 = MyClass(\"John\")\n",
        "obj2.method()  # Output: Parameterized constructor called with name John, Method called with name John\n"
      ],
      "metadata": {
        "colab": {
          "base_uri": "https://localhost:8080/"
        },
        "id": "KGhYLbtUkBBB",
        "outputId": "08753975-db0c-424f-d767-7f7974f0a7e2"
      },
      "execution_count": 4,
      "outputs": [
        {
          "output_type": "stream",
          "name": "stdout",
          "text": [
            "Default constructor called\n",
            "Method called without a name\n",
            "Parameterized constructor called with name John\n",
            "Method called with name John\n"
          ]
        }
      ]
    },
    {
      "cell_type": "code",
      "source": [
        "class MyClass:\n",
        "    def __init__(self):\n",
        "        self.default_value = 42\n",
        "\n",
        "obj = MyClass()\n",
        "print(obj.default_value)  # Output: 42\n"
      ],
      "metadata": {
        "colab": {
          "base_uri": "https://localhost:8080/"
        },
        "id": "SJWg2hHlkN04",
        "outputId": "525d3ea2-d3df-41a3-9ced-686526fde141"
      },
      "execution_count": 5,
      "outputs": [
        {
          "output_type": "stream",
          "name": "stdout",
          "text": [
            "42\n"
          ]
        }
      ]
    },
    {
      "cell_type": "code",
      "source": [
        "class Student:\n",
        "    def __init__(self, name, age):\n",
        "        self.name = name\n",
        "        self.age = age\n",
        "\n",
        "student1 = Student(\"Alice\", 20)\n",
        "student2 = Student(\"Bob\", 22)\n",
        "print(student1.name, student1.age)  # Output: Alice 20\n",
        "print(student2.name, student2.age)  # Output: Bob 22\n"
      ],
      "metadata": {
        "colab": {
          "base_uri": "https://localhost:8080/"
        },
        "id": "x4V7nq-bkXqI",
        "outputId": "b6cf707b-7e1c-484c-c68b-23ee96632b5e"
      },
      "execution_count": 6,
      "outputs": [
        {
          "output_type": "stream",
          "name": "stdout",
          "text": [
            "Alice 20\n",
            "Bob 22\n"
          ]
        }
      ]
    },
    {
      "cell_type": "code",
      "source": [
        "class Student:\n",
        "    def __init__(self, name, age):\n",
        "        # Initialize attributes\n",
        "        self.name = name\n",
        "        self.age = age\n",
        "\n",
        "    def display_info(self):\n",
        "        print(f\"Student name: {self.name}\")\n",
        "        print(f\"Student age: {self.age}\")\n",
        "\n",
        "# Creating an instance of the Student class\n",
        "student1 = Student(\"Alice\", 20)\n",
        "student2 = Student(\"Bob\", 22)\n",
        "\n",
        "# Accessing attributes and calling methods\n",
        "student1.display_info()\n",
        "student2.display_info()\n"
      ],
      "metadata": {
        "colab": {
          "base_uri": "https://localhost:8080/"
        },
        "id": "1m0DW9yJkZsF",
        "outputId": "9d0588cb-10e6-4f9d-d337-dd32ef84af92"
      },
      "execution_count": 7,
      "outputs": [
        {
          "output_type": "stream",
          "name": "stdout",
          "text": [
            "Student name: Alice\n",
            "Student age: 20\n",
            "Student name: Bob\n",
            "Student age: 22\n"
          ]
        }
      ]
    },
    {
      "cell_type": "code",
      "source": [
        "class Student:\n",
        "    def __init__(self, name, age):\n",
        "        self.name = name\n",
        "        self.age = age\n",
        "\n",
        "student1 = Student(\"Alice\", 20)\n",
        "student2 = Student(\"Bob\", 22)\n",
        "print(student1.name, student1.age)  # Output: Alice 20\n",
        "print(student2.name, student2.age)  # Output: Bob 22\n"
      ],
      "metadata": {
        "colab": {
          "base_uri": "https://localhost:8080/"
        },
        "id": "dbKnnXggklNa",
        "outputId": "ff084f71-b4bc-47cd-e2e4-7cc7ae013d50"
      },
      "execution_count": 8,
      "outputs": [
        {
          "output_type": "stream",
          "name": "stdout",
          "text": [
            "Alice 20\n",
            "Bob 22\n"
          ]
        }
      ]
    },
    {
      "cell_type": "markdown",
      "source": [],
      "metadata": {
        "id": "p_OuZfKeky0H"
      }
    },
    {
      "cell_type": "code",
      "source": [
        "class Person:\n",
        "    def __init__(self, name):\n",
        "        self.name = name\n",
        "\n",
        "    def say_hi(self):\n",
        "        print(f\"Hello, my name is {self.name}\")\n",
        "\n",
        "# Creating a person named Nikhil\n",
        "p = Person(\"Nikhil\")\n",
        "p.say_hi()  # Output: Hello, my name is Nikhil\n"
      ],
      "metadata": {
        "colab": {
          "base_uri": "https://localhost:8080/"
        },
        "id": "2-9VtCMGk02e",
        "outputId": "ffc1c936-b9c1-49c0-e4b6-6c9732ed3444"
      },
      "execution_count": 11,
      "outputs": [
        {
          "output_type": "stream",
          "name": "stdout",
          "text": [
            "Hello, my name is Nikhil\n"
          ]
        }
      ]
    },
    {
      "cell_type": "code",
      "source": [
        "p1 = Person(\"Nikhil\")\n",
        "p2 = Person(\"Abhinav\")\n",
        "p3 = Person(\"Anshul\")\n",
        "p1.say_hi()  # Output: Hello, my name is Nikhil\n",
        "p2.say_hi()  # Output: Hello, my name is Abhinav\n",
        "p3.say_hi()  # Output: Hello, my name is Anshul\n"
      ],
      "metadata": {
        "colab": {
          "base_uri": "https://localhost:8080/"
        },
        "id": "9t9EIpgPk6BW",
        "outputId": "d26326a1-f3ae-44d9-baba-12dbc1dfd86b"
      },
      "execution_count": 12,
      "outputs": [
        {
          "output_type": "stream",
          "name": "stdout",
          "text": [
            "Hello, my name is Nikhil\n",
            "Hello, my name is Abhinav\n",
            "Hello, my name is Anshul\n"
          ]
        }
      ]
    },
    {
      "cell_type": "code",
      "source": [
        "class A:\n",
        "    def __init__(self, something):\n",
        "        print(\"A init called\")\n",
        "        self.something = something\n",
        "\n",
        "class B(A):\n",
        "    def __init__(self, something):\n",
        "        print(\"B init called\")\n",
        "        self.something = something\n",
        "        A.__init__(self, something)\n",
        "\n",
        "obj = B(\"Something\")\n",
        "# Output: A init called, B init called\n"
      ],
      "metadata": {
        "colab": {
          "base_uri": "https://localhost:8080/"
        },
        "id": "AkDoRrOPk_Do",
        "outputId": "e9357af2-1fa9-43df-8a0e-63f71f83d06b"
      },
      "execution_count": 13,
      "outputs": [
        {
          "output_type": "stream",
          "name": "stdout",
          "text": [
            "B init called\n",
            "A init called\n"
          ]
        }
      ]
    },
    {
      "cell_type": "code",
      "source": [
        "class Person:\n",
        "    def __init__(self, name, age):\n",
        "        self.name = name\n",
        "        self.age = age\n",
        "\n",
        "# Creating an instance of the Person class\n",
        "person1 = Person(\"Alice\", 25)\n",
        "person2 = Person(\"Bob\", 30)\n",
        "\n",
        "# Accessing attributes\n",
        "print(f\"{person1.name} is {person1.age} years old.\")\n",
        "print(f\"{person2.name} is {person2.age} years old.\")\n",
        "\n"
      ],
      "metadata": {
        "colab": {
          "base_uri": "https://localhost:8080/"
        },
        "id": "coN9AKAck9kO",
        "outputId": "41f35d3b-d334-47de-ed19-cc964b43821c"
      },
      "execution_count": 14,
      "outputs": [
        {
          "output_type": "stream",
          "name": "stdout",
          "text": [
            "Alice is 25 years old.\n",
            "Bob is 30 years old.\n"
          ]
        }
      ]
    },
    {
      "cell_type": "code",
      "source": [
        "class SomeClass:\n",
        "    pass\n",
        "\n",
        "# Implicitly call the constructor to create an object\n",
        "obj = SomeClass()\n"
      ],
      "metadata": {
        "id": "IITKGXVnlWnS"
      },
      "execution_count": 15,
      "outputs": []
    },
    {
      "cell_type": "code",
      "source": [
        "class Student:\n",
        "    def __init__(self, name):\n",
        "        print(\"Inside Constructor\")\n",
        "        self.name = name\n",
        "\n",
        "# Explicitly call the constructor to create an object\n",
        "student1 = Student(\"Alice\")\n",
        "student2 = Student(\"Bob\")\n"
      ],
      "metadata": {
        "colab": {
          "base_uri": "https://localhost:8080/"
        },
        "id": "xRuq3Z87lK8P",
        "outputId": "1af70868-7447-4b7c-8187-ba0da5280592"
      },
      "execution_count": 16,
      "outputs": [
        {
          "output_type": "stream",
          "name": "stdout",
          "text": [
            "Inside Constructor\n",
            "Inside Constructor\n"
          ]
        }
      ]
    },
    {
      "cell_type": "markdown",
      "source": [],
      "metadata": {
        "id": "yAyDGNOolbgh"
      }
    },
    {
      "cell_type": "code",
      "source": [],
      "metadata": {
        "id": "slc-JVT7lfL1"
      },
      "execution_count": null,
      "outputs": []
    }
  ]
}