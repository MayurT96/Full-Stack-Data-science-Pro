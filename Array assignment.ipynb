{
 "cells": [
  {
   "cell_type": "code",
   "execution_count": 12,
   "metadata": {},
   "outputs": [],
   "source": [
    "from ast import arg\n",
    "\n",
    "\n",
    "def contains_duplicates(arr):\n",
    "    seen = set\n",
    "    for item in arr:\n",
    "        if item in seen:\n",
    "            return True\n",
    "        seen.add(item)\n",
    "        return False\n",
    "    "
   ]
  },
  {
   "cell_type": "code",
   "execution_count": 13,
   "metadata": {},
   "outputs": [
    {
     "name": "stdout",
     "output_type": "stream",
     "text": [
      "True\n"
     ]
    }
   ],
   "source": [
    "def contains_duplicates(arr):\n",
    "    return len(arr) != len(set(arr))\n",
    "\n",
    "# Given array\n",
    "arr = [1, 2, 4, 2, 5, 9]\n",
    "# Check for duplicates\n",
    "output = contains_duplicates(arr)\n",
    "print(output)  # Output: True\n"
   ]
  },
  {
   "cell_type": "code",
   "execution_count": 14,
   "metadata": {},
   "outputs": [
    {
     "name": "stdout",
     "output_type": "stream",
     "text": [
      "[5, 6, 7, 1, 2, 3, 4]\n"
     ]
    }
   ],
   "source": [
    "def rotate_array(arr, k):\n",
    "    # Ensure k is within the bounds of the array length\n",
    "    k = k % len(arr)\n",
    "    # Rotate the array\n",
    "    return arr[-k:] + arr[:-k]\n",
    "\n",
    "# Given array and k\n",
    "arr = [1, 2, 3, 4, 5, 6, 7]\n",
    "k = 3\n",
    "# Rotate the array\n",
    "output = rotate_array(arr, k)\n",
    "print(output)  # Output: [5, 6, 7, 1, 2, 3, 4]\n"
   ]
  },
  {
   "cell_type": "code",
   "execution_count": 15,
   "metadata": {},
   "outputs": [
    {
     "name": "stdout",
     "output_type": "stream",
     "text": [
      "[12, 9, 7, 5, 4, 2]\n"
     ]
    }
   ],
   "source": [
    "def reverse_array_in_place(arr):\n",
    "    left, right = 0, len(arr) - 1\n",
    "    while left < right:\n",
    "        # Swap elements\n",
    "        arr[left], arr[right] = arr[right], arr[left]\n",
    "        # Move towards the center\n",
    "        left, right = left + 1, right - 1\n",
    "    return arr\n",
    "\n",
    "# Given array\n",
    "arr = [2, 4, 5, 7, 9, 12]\n",
    "# Reverse the array in-place\n",
    "output = reverse_array_in_place(arr)\n",
    "print(output)  # Output: [12, 9, 7, 5, 4, 2]\n"
   ]
  },
  {
   "cell_type": "code",
   "execution_count": 16,
   "metadata": {},
   "outputs": [
    {
     "name": "stdout",
     "output_type": "stream",
     "text": [
      "20\n"
     ]
    }
   ],
   "source": [
    "# Given array\n",
    "arr = [10, 5, 20, 8, 15]\n",
    "# Find the maximum element\n",
    "output = max(arr)\n",
    "print(output)  # Output: 20\n"
   ]
  },
  {
   "cell_type": "code",
   "execution_count": 17,
   "metadata": {},
   "outputs": [
    {
     "name": "stdout",
     "output_type": "stream",
     "text": [
      "[1, 2, 3, 4, 5]\n"
     ]
    }
   ],
   "source": [
    "def remove_duplicates(arr):\n",
    "    if not arr:\n",
    "        return []\n",
    "\n",
    "    # Slow-runner pointer\n",
    "    write_index = 1\n",
    "\n",
    "    for read_index in range(1, len(arr)):\n",
    "        if arr[read_index] != arr[read_index - 1]:\n",
    "            arr[write_index] = arr[read_index]\n",
    "            write_index += 1\n",
    "\n",
    "    return arr[:write_index]\n",
    "\n",
    "# Given sorted array with duplicates\n",
    "arr = [1, 1, 2, 2, 2, 3, 3, 4, 4, 4, 5, 5]\n",
    "# Remove duplicates\n",
    "output = remove_duplicates(arr)\n",
    "print(output)  # Output: [1, 2, 3, 4, 5]\n"
   ]
  }
 ],
 "metadata": {
  "kernelspec": {
   "display_name": "Python 3",
   "language": "python",
   "name": "python3"
  },
  "language_info": {
   "codemirror_mode": {
    "name": "ipython",
    "version": 3
   },
   "file_extension": ".py",
   "mimetype": "text/x-python",
   "name": "python",
   "nbconvert_exporter": "python",
   "pygments_lexer": "ipython3",
   "version": "3.12.2"
  }
 },
 "nbformat": 4,
 "nbformat_minor": 2
}
