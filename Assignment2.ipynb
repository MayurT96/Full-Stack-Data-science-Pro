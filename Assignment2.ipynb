{
  "nbformat": 4,
  "nbformat_minor": 0,
  "metadata": {
    "colab": {
      "provenance": []
    },
    "kernelspec": {
      "name": "python3",
      "display_name": "Python 3"
    },
    "language_info": {
      "name": "python"
    }
  },
  "cells": [
    {
      "cell_type": "markdown",
      "source": [
        "TOPIC: String Based Assignment Problem"
      ],
      "metadata": {
        "id": "-42L7aTESQlT"
      }
    },
    {
      "cell_type": "code",
      "source": [
        "string = \"Mayur\"\n",
        "reversed_string = string[::-1]\n",
        "print(reversed_string)"
      ],
      "metadata": {
        "colab": {
          "base_uri": "https://localhost:8080/"
        },
        "id": "m-34ETtIShzk",
        "outputId": "c0c76854-8dac-455c-f452-19cd78d07006"
      },
      "execution_count": null,
      "outputs": [
        {
          "output_type": "stream",
          "name": "stdout",
          "text": [
            "ruyaM\n"
          ]
        }
      ]
    },
    {
      "cell_type": "code",
      "source": [
        "string = \" mayur\"\n",
        "uppercase = string.upper()\n",
        "print(uppercase)"
      ],
      "metadata": {
        "colab": {
          "base_uri": "https://localhost:8080/"
        },
        "id": "UauDfFCNX3ya",
        "outputId": "b4cfe19c-c7b5-43cb-d7fb-074dcff3f301"
      },
      "execution_count": null,
      "outputs": [
        {
          "output_type": "stream",
          "name": "stdout",
          "text": [
            " MAYUR\n"
          ]
        }
      ]
    },
    {
      "cell_type": "code",
      "source": [
        "string =\"mayur\"\n",
        "uppercase = string.lower()\n",
        "print(uppercase)"
      ],
      "metadata": {
        "colab": {
          "base_uri": "https://localhost:8080/"
        },
        "id": "EOEyNITlX63s",
        "outputId": "242b1a22-6257-4f7f-b4ca-00bf8af87ad4"
      },
      "execution_count": null,
      "outputs": [
        {
          "output_type": "stream",
          "name": "stdout",
          "text": [
            "mayur\n"
          ]
        }
      ]
    },
    {
      "cell_type": "code",
      "source": [
        "string = \"mayur\"\n",
        "vowels = \"aeiouAEIOU\"\n",
        "coun = sum(string.count(vowel) for vowel in vowels )\n",
        "print(coun)"
      ],
      "metadata": {
        "colab": {
          "base_uri": "https://localhost:8080/"
        },
        "id": "4TzBNLbEYgse",
        "outputId": "aaafd855-3788-4a5e-92ce-4223904b646e"
      },
      "execution_count": null,
      "outputs": [
        {
          "output_type": "stream",
          "name": "stdout",
          "text": [
            "2\n"
          ]
        }
      ]
    },
    {
      "cell_type": "code",
      "source": [
        "string = \"mayur\"\n",
        "consonant_count = sum(1 for char in string if char.isalpha() and char.lower() not in 'aeiou')\n",
        "print(consonant_count)"
      ],
      "metadata": {
        "colab": {
          "base_uri": "https://localhost:8080/"
        },
        "id": "o8krZvFdZRuk",
        "outputId": "1f67cf78-5158-45c0-99d9-dffb0216e8b2"
      },
      "execution_count": null,
      "outputs": [
        {
          "output_type": "stream",
          "name": "stdout",
          "text": [
            "3\n"
          ]
        }
      ]
    },
    {
      "cell_type": "code",
      "source": [
        "string = \"  mayur tamkhane  \"\n",
        "no_whitespace = string.replace(\" \", \"\")\n",
        "print(no_whitespace)"
      ],
      "metadata": {
        "colab": {
          "base_uri": "https://localhost:8080/"
        },
        "id": "tKOThUvFaEfE",
        "outputId": "2a6e58d3-af92-4c0c-c60d-45da3ca3dd98"
      },
      "execution_count": null,
      "outputs": [
        {
          "output_type": "stream",
          "name": "stdout",
          "text": [
            "mayurtamkhane\n"
          ]
        }
      ]
    },
    {
      "cell_type": "code",
      "source": [
        "string = \"hello, world!\"\n",
        "lenght = sum(1 for _ in string)\n",
        "print(lenght)"
      ],
      "metadata": {
        "colab": {
          "base_uri": "https://localhost:8080/"
        },
        "id": "4b_5MrBCaygQ",
        "outputId": "1c604e3f-ace5-4579-a76c-ebf8f29e511b"
      },
      "execution_count": null,
      "outputs": [
        {
          "output_type": "stream",
          "name": "stdout",
          "text": [
            "13\n"
          ]
        }
      ]
    },
    {
      "cell_type": "code",
      "source": [
        "string = \"mayur\"\n",
        "word= \"tamkhane\"\n",
        "if word in string:\n",
        "  print(\"contains the word\")\n",
        "else:\n",
        "    print(\"Does not contain the word\")"
      ],
      "metadata": {
        "colab": {
          "base_uri": "https://localhost:8080/"
        },
        "id": "qy98h5WSbNQn",
        "outputId": "c7a6d08e-b19f-4616-965e-dc5bc32cbc59"
      },
      "execution_count": null,
      "outputs": [
        {
          "output_type": "stream",
          "name": "stdout",
          "text": [
            "Does not contain the word\n"
          ]
        }
      ]
    },
    {
      "cell_type": "code",
      "source": [
        "# Original string\n",
        "s = \"Hello world this is a test\"\n",
        "\n",
        "# Convert spaces to underscores\n",
        "s_underscore = s.replace(\" \", \"_\")\n",
        "\n",
        "# Print the new string\n",
        "print(s_underscore)\n"
      ],
      "metadata": {
        "id": "BwTh4fYkeH5b",
        "colab": {
          "base_uri": "https://localhost:8080/"
        },
        "outputId": "f0179882-22e0-4c32-e5c1-e7580a8dd487"
      },
      "execution_count": 2,
      "outputs": [
        {
          "output_type": "stream",
          "name": "stdout",
          "text": [
            "Hello_world_this_is_a_test\n"
          ]
        }
      ]
    },
    {
      "cell_type": "code",
      "source": [
        "# Original string\n",
        "s = \"Hello world this is a test\"\n",
        "\n",
        "# Word to check\n",
        "word = \"Hello\"\n",
        "\n",
        "# Check if the string starts with the word\n",
        "if s.startswith(word):\n",
        "    print(\"The string starts with\", word)\n",
        "else:\n",
        "    print(\"The string does not start with\", word)\n"
      ],
      "metadata": {
        "colab": {
          "base_uri": "https://localhost:8080/"
        },
        "id": "fzy8L1pLCGOC",
        "outputId": "16985111-0ab9-4500-ea37-99055de3d716"
      },
      "execution_count": 4,
      "outputs": [
        {
          "output_type": "stream",
          "name": "stdout",
          "text": [
            "The string starts with Hello\n"
          ]
        }
      ]
    },
    {
      "cell_type": "code",
      "source": [
        "# Original string\n",
        "s = \"Hello world this is a test\"\n",
        "\n",
        "# Word to check\n",
        "word = \"test\"\n",
        "\n",
        "# Check if the string ends with the word\n",
        "if s.endswith(word):\n",
        "    print(\"The string ends with\", word)\n",
        "else:\n",
        "    print(\"The string does not end with\", word)\n"
      ],
      "metadata": {
        "colab": {
          "base_uri": "https://localhost:8080/"
        },
        "id": "9a7HbEGgCUjK",
        "outputId": "578af71e-cb7e-4da8-eb06-0b5432f23cca"
      },
      "execution_count": 5,
      "outputs": [
        {
          "output_type": "stream",
          "name": "stdout",
          "text": [
            "The string ends with test\n"
          ]
        }
      ]
    },
    {
      "cell_type": "code",
      "source": [
        "# Original string\n",
        "s = \"hello world\"\n",
        "\n",
        "# Convert to title case\n",
        "s_title = s.title()\n",
        "\n",
        "# Print the new string\n",
        "print(s_title)\n"
      ],
      "metadata": {
        "colab": {
          "base_uri": "https://localhost:8080/"
        },
        "id": "Wulu0ZyYCfnl",
        "outputId": "7bcad9cf-0de0-45b6-a64e-fd106f19bef6"
      },
      "execution_count": 6,
      "outputs": [
        {
          "output_type": "stream",
          "name": "stdout",
          "text": [
            "Hello World\n"
          ]
        }
      ]
    },
    {
      "cell_type": "code",
      "source": [
        "# Original string\n",
        "s = \"The quick brown fox jumps over the lazy dog\"\n",
        "\n",
        "# Split the string into words\n",
        "words = s.split()\n",
        "\n",
        "# Find the longest word\n",
        "longest_word = max(words, key=len)\n",
        "\n",
        "# Print the longest word\n",
        "print(\"The longest word is:\", longest_word)\n"
      ],
      "metadata": {
        "colab": {
          "base_uri": "https://localhost:8080/"
        },
        "id": "N8RHnLd4C9tG",
        "outputId": "db315f07-a13e-4ed6-8d0f-c50ee049e661"
      },
      "execution_count": 7,
      "outputs": [
        {
          "output_type": "stream",
          "name": "stdout",
          "text": [
            "The longest word is: quick\n"
          ]
        }
      ]
    },
    {
      "cell_type": "code",
      "source": [
        "# Original string\n",
        "s = \"The quick brown fox jumps over the lazy dog\"\n",
        "\n",
        "# Split the string into words\n",
        "words = s.split()\n",
        "\n",
        "# Find the longest word\n",
        "longest_word = max(words, key=len)\n",
        "\n",
        "# Print the longest word\n",
        "print(\"The longest word is:\", longest_word)\n"
      ],
      "metadata": {
        "colab": {
          "base_uri": "https://localhost:8080/"
        },
        "id": "yPzgftRoDASf",
        "outputId": "99675dcd-eb33-4aa0-d46e-5d4b130056c5"
      },
      "execution_count": 8,
      "outputs": [
        {
          "output_type": "stream",
          "name": "stdout",
          "text": [
            "The longest word is: quick\n"
          ]
        }
      ]
    },
    {
      "cell_type": "code",
      "source": [
        "# Original string\n",
        "s = \"The quick brown fox jumps over the lazy dog\"\n",
        "\n",
        "# Split the string into words\n",
        "words = s.split()\n",
        "\n",
        "# Find the shortest word\n",
        "shortest_word = min(words, key=len)\n",
        "\n",
        "# Print the shortest word\n",
        "print(\"The shortest word is:\", shortest_word)\n"
      ],
      "metadata": {
        "colab": {
          "base_uri": "https://localhost:8080/"
        },
        "id": "taVkpqrtDFgZ",
        "outputId": "d8a8d296-ee36-4668-d017-5386a2ef7bd4"
      },
      "execution_count": 9,
      "outputs": [
        {
          "output_type": "stream",
          "name": "stdout",
          "text": [
            "The shortest word is: The\n"
          ]
        }
      ]
    }
  ]
}