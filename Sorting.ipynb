{
 "cells": [
  {
   "cell_type": "code",
   "execution_count": 1,
   "metadata": {},
   "outputs": [
    {
     "name": "stdout",
     "output_type": "stream",
     "text": [
      "The missing number is: 5\n"
     ]
    }
   ],
   "source": [
    "def find_missing_number(num_list):\n",
    "    n = len(num_list) + 1\n",
    "    expected_sum = n * (n + 1) // 2\n",
    "    actual_sum = sum(num_list)\n",
    "    missing_number = expected_sum - actual_sum\n",
    "    return missing_number\n",
    "\n",
    "# Example usage:\n",
    "num_list = [1, 2, 4, 6, 3, 7, 8]\n",
    "print(\"The missing number is:\", find_missing_number(num_list))\n"
   ]
  },
  {
   "cell_type": "code",
   "execution_count": 2,
   "metadata": {},
   "outputs": [
    {
     "name": "stdout",
     "output_type": "stream",
     "text": [
      "The element appearing maximum number of times is: 1\n"
     ]
    }
   ],
   "source": [
    "def find_max_occurrence(arr):\n",
    "    frequency = {}\n",
    "    max_count = -1\n",
    "    max_item = None\n",
    "    \n",
    "    # Count the frequency of each element\n",
    "    for item in arr:\n",
    "        if item in frequency:\n",
    "            frequency[item] += 1\n",
    "        else:\n",
    "            frequency[item] = 1\n",
    "        \n",
    "        # Check if the current item has the highest frequency\n",
    "        if frequency[item] > max_count:\n",
    "            max_count = frequency[item]\n",
    "            max_item = item\n",
    "    \n",
    "    return max_item\n",
    "\n",
    "# Example usage:\n",
    "arr = [1, 3, 2, 1, 4, 1]\n",
    "print(\"The element appearing maximum number of times is:\", find_max_occurrence(arr))\n"
   ]
  },
  {
   "cell_type": "code",
   "execution_count": 3,
   "metadata": {},
   "outputs": [
    {
     "name": "stdout",
     "output_type": "stream",
     "text": [
      "The number that appears an odd number of times is: 3\n"
     ]
    }
   ],
   "source": [
    "def find_odd_occurrence(arr):\n",
    "    result = 0\n",
    "    for number in arr:\n",
    "        result ^= number\n",
    "    return result\n",
    "\n",
    "# Example usage:\n",
    "arr = [1, 2, 3, 2, 3, 1, 3]\n",
    "print(\"The number that appears an odd number of times is:\", find_odd_occurrence(arr))\n"
   ]
  },
  {
   "cell_type": "code",
   "execution_count": 4,
   "metadata": {},
   "outputs": [
    {
     "name": "stdout",
     "output_type": "stream",
     "text": [
      "The pair that adds up to 16 is: (6, 10)\n"
     ]
    }
   ],
   "source": [
    "def find_pair_with_sum(arr, K):\n",
    "    seen = {}\n",
    "    for number in arr:\n",
    "        if K - number in seen:\n",
    "            return (K - number, number)\n",
    "        seen[number] = True\n",
    "    return None\n",
    "\n",
    "# Example usage:\n",
    "arr = [1, 4, 45, 6, 10, -8]\n",
    "K = 16\n",
    "pair = find_pair_with_sum(arr, K)\n",
    "if pair:\n",
    "    print(f\"The pair that adds up to {K} is: {pair}\")\n",
    "else:\n",
    "    print(f\"No pair adds up to {K}.\")\n"
   ]
  },
  {
   "cell_type": "code",
   "execution_count": 5,
   "metadata": {},
   "outputs": [
    {
     "name": "stdout",
     "output_type": "stream",
     "text": [
      "The two numbers whose sum is closest to zero are: (-80, 85)\n"
     ]
    }
   ],
   "source": [
    "def find_closest_to_zero(arr):\n",
    "    arr.sort()\n",
    "    left = 0\n",
    "    right = len(arr) - 1\n",
    "    min_sum = float('inf')\n",
    "    closest_pair = (None, None)\n",
    "\n",
    "    while left < right:\n",
    "        current_sum = arr[left] + arr[right]\n",
    "        \n",
    "        # Update the closest pair if the current sum is closer to zero\n",
    "        if abs(current_sum) < abs(min_sum):\n",
    "            min_sum = current_sum\n",
    "            closest_pair = (arr[left], arr[right])\n",
    "        \n",
    "        # Move the left pointer to the right or the right pointer to the left\n",
    "        if current_sum < 0:\n",
    "            left += 1\n",
    "        else:\n",
    "            right -= 1\n",
    "\n",
    "    return closest_pair\n",
    "\n",
    "# Example usage:\n",
    "arr = [1, 60, -10, 70, -80, 85]\n",
    "print(\"The two numbers whose sum is closest to zero are:\", find_closest_to_zero(arr))\n"
   ]
  },
  {
   "cell_type": "code",
   "execution_count": 6,
   "metadata": {},
   "outputs": [
    {
     "name": "stdout",
     "output_type": "stream",
     "text": [
      "The three elements that sum up to 24 are: (3, 9, 12)\n"
     ]
    }
   ],
   "source": [
    "def find_three_elements_with_sum(arr, given_number):\n",
    "    arr.sort()\n",
    "    n = len(arr)\n",
    "    for i in range(n-2):\n",
    "        left = i + 1\n",
    "        right = n - 1\n",
    "        while left < right:\n",
    "            current_sum = arr[i] + arr[left] + arr[right]\n",
    "            if current_sum == given_number:\n",
    "                return arr[i], arr[left], arr[right]\n",
    "            elif current_sum < given_number:\n",
    "                left += 1\n",
    "            else:\n",
    "                right -= 1\n",
    "    return None\n",
    "\n",
    "# Example usage:\n",
    "arr = [12, 3, 4, 1, 6, 9]\n",
    "given_number = 24\n",
    "triplet = find_three_elements_with_sum(arr, given_number)\n",
    "if triplet:\n",
    "    print(f\"The three elements that sum up to {given_number} are: {triplet}\")\n",
    "else:\n",
    "    print(\"No such triplet found.\")\n"
   ]
  },
  {
   "cell_type": "code",
   "execution_count": 7,
   "metadata": {},
   "outputs": [
    {
     "name": "stdout",
     "output_type": "stream",
     "text": [
      "The Pythagorean triplet is: (3, 4, 5)\n"
     ]
    }
   ],
   "source": [
    "def find_pythagorean_triplets(arr):\n",
    "    n = len(arr)\n",
    "    # Square all the elements\n",
    "    for i in range(n):\n",
    "        arr[i] = arr[i] ** 2\n",
    "\n",
    "    # Sort the array\n",
    "    arr.sort()\n",
    "\n",
    "    # Fix one element and find the other two\n",
    "    for k in range(n - 1, 1, -1):\n",
    "        left = 0\n",
    "        right = k - 1\n",
    "        while left < right:\n",
    "            if arr[left] + arr[right] == arr[k]:\n",
    "                return int(arr[left] ** 0.5), int(arr[right] ** 0.5), int(arr[k] ** 0.5)\n",
    "            elif arr[left] + arr[right] < arr[k]:\n",
    "                left += 1\n",
    "            else:\n",
    "                right -= 1\n",
    "    return None\n",
    "\n",
    "# Example usage:\n",
    "arr = [3, 1, 4, 6, 5]\n",
    "triplet = find_pythagorean_triplets(arr)\n",
    "if triplet:\n",
    "    print(f\"The Pythagorean triplet is: {triplet}\")\n",
    "else:\n",
    "    print(\"No Pythagorean triplet found.\")\n"
   ]
  },
  {
   "cell_type": "code",
   "execution_count": 8,
   "metadata": {},
   "outputs": [
    {
     "name": "stdout",
     "output_type": "stream",
     "text": [
      "Sorted array: [0, 0, 0, 0, 0, 1, 1, 1, 1, 1, 2, 2]\n"
     ]
    }
   ],
   "source": [
    "def dutch_national_flag_sort(arr):\n",
    "    low, mid, high = 0, 0, len(arr) - 1\n",
    "    \n",
    "    while mid <= high:\n",
    "        if arr[mid] == 0:\n",
    "            arr[low], arr[mid] = arr[mid], arr[low]\n",
    "            low += 1\n",
    "            mid += 1\n",
    "        elif arr[mid] == 1:\n",
    "            mid += 1\n",
    "        else:\n",
    "            arr[mid], arr[high] = arr[high], arr[mid]\n",
    "            high -= 1\n",
    "    return arr\n",
    "\n",
    "# Example usage:\n",
    "arr = [0, 1, 1, 0, 1, 2, 1, 2, 0, 0, 0, 1]\n",
    "print(\"Sorted array:\", dutch_national_flag_sort(arr))\n"
   ]
  }
 ],
 "metadata": {
  "kernelspec": {
   "display_name": "Python 3",
   "language": "python",
   "name": "python3"
  },
  "language_info": {
   "codemirror_mode": {
    "name": "ipython",
    "version": 3
   },
   "file_extension": ".py",
   "mimetype": "text/x-python",
   "name": "python",
   "nbconvert_exporter": "python",
   "pygments_lexer": "ipython3",
   "version": "3.12.4"
  }
 },
 "nbformat": 4,
 "nbformat_minor": 2
}
