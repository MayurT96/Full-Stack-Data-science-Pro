{
  "cells": [
    {
      "cell_type": "code",
      "execution_count": null,
      "id": "d944ead5-23b9-4d05-9f82-a6d06a3b4316",
      "metadata": {
        "id": "d944ead5-23b9-4d05-9f82-a6d06a3b4316"
      },
      "outputs": [],
      "source": [
        "if\n",
        "if else\n",
        "if elif else\n"
      ]
    },
    {
      "cell_type": "code",
      "execution_count": null,
      "id": "a34751cd-e602-4b7d-a5e0-72d7faba2c37",
      "metadata": {
        "id": "a34751cd-e602-4b7d-a5e0-72d7faba2c37"
      },
      "outputs": [],
      "source": [
        "age=16"
      ]
    },
    {
      "cell_type": "code",
      "execution_count": null,
      "id": "68fc92f8-8036-4927-8de8-0c213c347a92",
      "metadata": {
        "id": "68fc92f8-8036-4927-8de8-0c213c347a92",
        "outputId": "af1a07d8-96a0-4d71-b359-56b957a3afac"
      },
      "outputs": [
        {
          "name": "stdout",
          "output_type": "stream",
          "text": [
            "you cannot drive\n"
          ]
        }
      ],
      "source": [
        "if age>=18:\n",
        "    print(\"you can drive\")\n",
        "else:\n",
        "    print(\"you cannot drive\")\n",
        "\n",
        "\n",
        ""
      ]
    },
    {
      "cell_type": "code",
      "execution_count": null,
      "id": "73a47689-c829-4352-8c74-45f10dd56020",
      "metadata": {
        "id": "73a47689-c829-4352-8c74-45f10dd56020"
      },
      "outputs": [],
      "source": [
        "x=2\n",
        "if x>=23:\n",
        "    print(\"your are inside the if block\")"
      ]
    },
    {
      "cell_type": "code",
      "execution_count": null,
      "id": "cb9bc683-3a30-4e5e-b491-60addbe37b00",
      "metadata": {
        "id": "cb9bc683-3a30-4e5e-b491-60addbe37b00",
        "outputId": "4f480385-9a9c-4a2b-96ed-6ffd68eee77c"
      },
      "outputs": [
        {
          "name": "stdout",
          "output_type": "stream",
          "text": [
            "excellent performance your grade is c\n"
          ]
        }
      ],
      "source": [
        "score=35\n",
        "\n",
        "if score >=90:\n",
        "    print(\"excellent performance your grade is A+\")\n",
        "elif score >=80:\n",
        "    print(\"excellent performance your grade is A\")\n",
        "elif score >=70:\n",
        "    print(\"excellent performance your grade is B\")\n",
        "else:\n",
        "    print(\"excellent performance your grade is c\")\n"
      ]
    },
    {
      "cell_type": "code",
      "execution_count": null,
      "id": "fdb4cee1-35c8-45d1-b490-78f47cfc95c7",
      "metadata": {
        "id": "fdb4cee1-35c8-45d1-b490-78f47cfc95c7",
        "outputId": "3ac96c1d-6891-4d35-d858-6fb29459ac65"
      },
      "outputs": [
        {
          "name": "stdin",
          "output_type": "stream",
          "text": [
            "Please enter the time  20\n"
          ]
        },
        {
          "name": "stdout",
          "output_type": "stream",
          "text": [
            "Evening\n"
          ]
        }
      ],
      "source": [
        "time = int(input(\"Please enter the time \"))\n",
        "\n",
        "if time < 0:\n",
        "           print(\"Invalid\")\n",
        "elif 0 <= time <= 5:\n",
        "           print(\"Night\")\n",
        "elif 6<= time <= 11:\n",
        "           print(\"Morning\")\n",
        "elif 12 <= time <= 17:\n",
        "           print(\"Afternoon\")\n",
        "elif 18 <= time <= 23:\n",
        "           print(\"Evening\")\n",
        "else:\n",
        "           print(\"Invalid\")\n"
      ]
    },
    {
      "cell_type": "code",
      "execution_count": null,
      "id": "4ae956c8-ff4e-4b99-9d9a-3c20a46daa37",
      "metadata": {
        "id": "4ae956c8-ff4e-4b99-9d9a-3c20a46daa37"
      },
      "outputs": [],
      "source": [
        "# find largest number from 3 given numbers"
      ]
    },
    {
      "cell_type": "code",
      "execution_count": null,
      "id": "412cdcc1-ff77-429b-b6d5-def1422c9704",
      "metadata": {
        "id": "412cdcc1-ff77-429b-b6d5-def1422c9704",
        "outputId": "9db78a8b-eafa-421f-bd77-459545c72754"
      },
      "outputs": [
        {
          "name": "stdout",
          "output_type": "stream",
          "text": [
            "largest number is 30\n"
          ]
        }
      ],
      "source": [
        "num1=10\n",
        "num2=20\n",
        "num3=30\n",
        "\n",
        "\n",
        "if (num1>=num2) and (num1>=num3):\n",
        "    largest=num1\n",
        "    print(\"largest number is\",largest)\n",
        "elif (num2>=num1) and (num2>=num3):\n",
        "    largest=num2\n",
        "    print(\"largest number is\",largest)\n",
        "else:\n",
        "    largest=num3\n",
        "    print(\"largest number is\",largest)"
      ]
    },
    {
      "cell_type": "code",
      "execution_count": null,
      "id": "0e56ecb9-852c-41c3-876f-e98500ea626a",
      "metadata": {
        "id": "0e56ecb9-852c-41c3-876f-e98500ea626a"
      },
      "outputs": [],
      "source": [
        "add,sub,mul,div"
      ]
    },
    {
      "cell_type": "code",
      "execution_count": null,
      "id": "d6a42446-f19e-4955-9429-e9bb2b868550",
      "metadata": {
        "id": "d6a42446-f19e-4955-9429-e9bb2b868550",
        "outputId": "1fe8a81a-4f53-4f86-84e9-b44b09e06efc"
      },
      "outputs": [
        {
          "name": "stdin",
          "output_type": "stream",
          "text": [
            "enter first number : 2\n",
            "enter operator (+,-,*,/,%) :  +\n",
            "enter second number : 5\n"
          ]
        },
        {
          "name": "stdout",
          "output_type": "stream",
          "text": [
            "7\n"
          ]
        }
      ],
      "source": [
        "first = input(\"enter first number :\")\n",
        "operator = input(\"enter operator (+,-,*,/,%) : \")\n",
        "second = input(\"enter second number :\")\n",
        "\n",
        "first = int(first)\n",
        "second =  int(second)\n",
        "\n",
        "if operator ==  \"+\":\n",
        "    print(first+second)\n",
        "elif operator == \"-\":\n",
        "    print(first-second)\n",
        "elif operator == \"*\":\n",
        "    print(first*second)\n",
        "elif operator == \"/\":\n",
        "    print(first/second)\n",
        "elif operator == \"%\":\n",
        "    print(first%second)\n",
        "\n",
        "else:\n",
        "    print(\"invalid operation\")\n"
      ]
    },
    {
      "cell_type": "code",
      "execution_count": null,
      "id": "9db1d5cd-d8ec-404f-a886-ecd03cc46539",
      "metadata": {
        "id": "9db1d5cd-d8ec-404f-a886-ecd03cc46539",
        "outputId": "205d4e89-00ef-4bed-a45d-0c506b11f3e4"
      },
      "outputs": [
        {
          "name": "stdin",
          "output_type": "stream",
          "text": [
            "enter number1: 3\n",
            "enter number2: 5\n",
            "enter op: *\n"
          ]
        },
        {
          "name": "stdout",
          "output_type": "stream",
          "text": [
            "15\n"
          ]
        }
      ],
      "source": [
        "num1=int(input(\"enter number1:\"))\n",
        "num2=int(input(\"enter number2:\"))\n",
        "op=input(\"enter op:\")\n",
        "\n",
        "if op =='+':\n",
        "         print(num1+num2)\n",
        "elif op =='-':\n",
        "         print(num1-num2)\n",
        "elif op=='*':\n",
        "         print(num1*num2)\n",
        "elif op =='/':\n",
        "         print(num1/num2)\n",
        "else:\n",
        "         print(\"Invalid op:\")\n"
      ]
    },
    {
      "cell_type": "code",
      "execution_count": null,
      "id": "294d881e-48e5-4520-a14a-f2d1c688697a",
      "metadata": {
        "id": "294d881e-48e5-4520-a14a-f2d1c688697a",
        "outputId": "d88ca175-2eb4-4c86-cf0c-f8d523a40da3"
      },
      "outputs": [
        {
          "name": "stdout",
          "output_type": "stream",
          "text": [
            "number is negitive\n"
          ]
        }
      ],
      "source": [
        "num=-1\n",
        "\n",
        "if (num >= 0):\n",
        "    if num == 0:\n",
        "        print(\"number is 0\")\n",
        "    else:\n",
        "        print(\"number is positive\")\n",
        "else:\n",
        "    print(\"number is negitive\")"
      ]
    },
    {
      "cell_type": "code",
      "execution_count": null,
      "id": "d80600bc-cc1a-4058-9aa3-417132401fbf",
      "metadata": {
        "id": "d80600bc-cc1a-4058-9aa3-417132401fbf",
        "outputId": "144af97b-8f54-4820-d193-1d7798967fd5"
      },
      "outputs": [
        {
          "data": {
            "text/plain": [
              "range(0, 5)"
            ]
          },
          "execution_count": 29,
          "metadata": {},
          "output_type": "execute_result"
        }
      ],
      "source": [
        "range(5)"
      ]
    },
    {
      "cell_type": "code",
      "execution_count": null,
      "id": "46ca7ed5-50a8-4fdb-87ec-b37d2183c5aa",
      "metadata": {
        "id": "46ca7ed5-50a8-4fdb-87ec-b37d2183c5aa"
      },
      "outputs": [],
      "source": [
        "range(start,stop,step)"
      ]
    },
    {
      "cell_type": "code",
      "execution_count": null,
      "id": "396e279d-47a4-4719-b16d-fe598bfac07f",
      "metadata": {
        "id": "396e279d-47a4-4719-b16d-fe598bfac07f",
        "outputId": "d26e58c8-a42c-48df-9ff3-808c32fb3181"
      },
      "outputs": [
        {
          "data": {
            "text/plain": [
              "[0, 1, 2, 3, 4]"
            ]
          },
          "execution_count": 25,
          "metadata": {},
          "output_type": "execute_result"
        }
      ],
      "source": [
        "list(range(5))"
      ]
    },
    {
      "cell_type": "code",
      "execution_count": null,
      "id": "a75a0931-3c29-45c4-af9c-e65ca4892971",
      "metadata": {
        "id": "a75a0931-3c29-45c4-af9c-e65ca4892971",
        "outputId": "23df6711-290e-4a1c-97d6-15653fa8fd7e"
      },
      "outputs": [
        {
          "data": {
            "text/plain": [
              "[0, 1, 2, 3, 4, 5, 6, 7, 8, 9]"
            ]
          },
          "execution_count": 26,
          "metadata": {},
          "output_type": "execute_result"
        }
      ],
      "source": [
        "list(range(10))"
      ]
    },
    {
      "cell_type": "code",
      "execution_count": null,
      "id": "ac797714-2419-445e-b49c-78304249b25a",
      "metadata": {
        "id": "ac797714-2419-445e-b49c-78304249b25a",
        "outputId": "74000e0a-be55-4989-ccb1-b4c8e82fd74c"
      },
      "outputs": [
        {
          "data": {
            "text/plain": [
              "[2, 3, 4, 5, 6, 7, 8, 9]"
            ]
          },
          "execution_count": 27,
          "metadata": {},
          "output_type": "execute_result"
        }
      ],
      "source": [
        "list(range(2,10))"
      ]
    },
    {
      "cell_type": "code",
      "execution_count": null,
      "id": "7cab6206-7fbe-4cd2-8f1e-7666de58001d",
      "metadata": {
        "id": "7cab6206-7fbe-4cd2-8f1e-7666de58001d"
      },
      "outputs": [],
      "source": [
        "#list(range(45,78))"
      ]
    },
    {
      "cell_type": "code",
      "execution_count": null,
      "id": "915e7e73-266a-4fff-840a-6630c9a95988",
      "metadata": {
        "id": "915e7e73-266a-4fff-840a-6630c9a95988",
        "outputId": "9c009e60-f386-468b-ba94-f8fcf96ed1bf"
      },
      "outputs": [
        {
          "data": {
            "text/plain": [
              "[2, 4, 6, 8, 10]"
            ]
          },
          "execution_count": 30,
          "metadata": {},
          "output_type": "execute_result"
        }
      ],
      "source": [
        "list(range(2,12,2))"
      ]
    },
    {
      "cell_type": "code",
      "execution_count": null,
      "id": "c548e808-0462-493a-ba93-fc3ea345d87b",
      "metadata": {
        "id": "c548e808-0462-493a-ba93-fc3ea345d87b",
        "outputId": "2fb22aa9-3860-4abb-cff6-384083ffdeb2"
      },
      "outputs": [
        {
          "name": "stdout",
          "output_type": "stream",
          "text": [
            "0\n",
            "1\n",
            "2\n",
            "3\n",
            "4\n"
          ]
        }
      ],
      "source": [
        "for i in range(5):\n",
        "    print(i)"
      ]
    },
    {
      "cell_type": "code",
      "execution_count": null,
      "id": "3792d68f-57bb-4c89-a747-e24e8b4c3b88",
      "metadata": {
        "id": "3792d68f-57bb-4c89-a747-e24e8b4c3b88",
        "outputId": "3e70906c-aad5-4fba-d586-a063665bb30f"
      },
      "outputs": [
        {
          "name": "stdout",
          "output_type": "stream",
          "text": [
            "0\n",
            "1\n",
            "2\n"
          ]
        }
      ],
      "source": [
        "for i in range(3):\n",
        "    print(i)"
      ]
    },
    {
      "cell_type": "code",
      "execution_count": null,
      "id": "fed4c5c7-759a-4ca5-add2-ad96f3a6ac1f",
      "metadata": {
        "id": "fed4c5c7-759a-4ca5-add2-ad96f3a6ac1f",
        "outputId": "933f8595-22a9-4674-bdbe-2af7f797c849"
      },
      "outputs": [
        {
          "name": "stdout",
          "output_type": "stream",
          "text": [
            "a\n",
            "b\n",
            "c\n"
          ]
        }
      ],
      "source": [
        "for l in [\"a\",\"b\",\"c\"]:\n",
        "    print(l)"
      ]
    },
    {
      "cell_type": "code",
      "execution_count": null,
      "id": "62eaa8f1-9847-4ea9-ac78-990717088e74",
      "metadata": {
        "id": "62eaa8f1-9847-4ea9-ac78-990717088e74",
        "outputId": "6b435f56-5a94-4dd0-e5f6-f4db34c56958"
      },
      "outputs": [
        {
          "name": "stdout",
          "output_type": "stream",
          "text": [
            "p\n",
            "w\n",
            "s\n",
            "k\n",
            "i\n",
            "l\n",
            "l\n",
            "s\n"
          ]
        }
      ],
      "source": [
        "for i in \"pwskills\":\n",
        "    print(i)"
      ]
    },
    {
      "cell_type": "code",
      "execution_count": null,
      "id": "ca4893f5-4d1e-4af8-b12b-73433e0e8c51",
      "metadata": {
        "id": "ca4893f5-4d1e-4af8-b12b-73433e0e8c51",
        "outputId": "77c91e3d-c0cf-48f5-cfe9-e7ccbbbb8223"
      },
      "outputs": [
        {
          "ename": "TypeError",
          "evalue": "'int' object is not iterable",
          "output_type": "error",
          "traceback": [
            "\u001b[0;31m---------------------------------------------------------------------------\u001b[0m",
            "\u001b[0;31mTypeError\u001b[0m                                 Traceback (most recent call last)",
            "Cell \u001b[0;32mIn[38], line 1\u001b[0m\n\u001b[0;32m----> 1\u001b[0m \u001b[38;5;28;01mfor\u001b[39;00m i \u001b[38;5;129;01min\u001b[39;00m \u001b[38;5;241m23\u001b[39m:\n\u001b[1;32m      2\u001b[0m     \u001b[38;5;28mprint\u001b[39m(i)\n",
            "\u001b[0;31mTypeError\u001b[0m: 'int' object is not iterable"
          ]
        }
      ],
      "source": [
        "for i in 23:\n",
        "    print(i)"
      ]
    },
    {
      "cell_type": "code",
      "execution_count": null,
      "id": "0bec29c2-917b-4b94-863a-2f0fc58adc43",
      "metadata": {
        "id": "0bec29c2-917b-4b94-863a-2f0fc58adc43"
      },
      "outputs": [],
      "source": [
        "x={\"name\":\"imran\",\"city\":\"bangalore\"}"
      ]
    },
    {
      "cell_type": "code",
      "execution_count": null,
      "id": "abff7043-509b-434b-b21d-8b64f4a03631",
      "metadata": {
        "id": "abff7043-509b-434b-b21d-8b64f4a03631",
        "outputId": "4c08651e-a275-4fd2-c283-3ad4a0d7ffd8"
      },
      "outputs": [
        {
          "name": "stdout",
          "output_type": "stream",
          "text": [
            "imran\n",
            "bangalore\n"
          ]
        }
      ],
      "source": [
        "for i in x.values():\n",
        "    print(i)"
      ]
    },
    {
      "cell_type": "code",
      "execution_count": null,
      "id": "670a1980-d280-4690-ad10-6da705cf6408",
      "metadata": {
        "id": "670a1980-d280-4690-ad10-6da705cf6408"
      },
      "outputs": [],
      "source": []
    },
    {
      "cell_type": "code",
      "execution_count": null,
      "id": "554a61fe-77be-4dd1-8226-fef69006d94d",
      "metadata": {
        "id": "554a61fe-77be-4dd1-8226-fef69006d94d",
        "outputId": "88f97bd8-af8e-4226-b166-1f105be9fa22"
      },
      "outputs": [
        {
          "data": {
            "text/plain": [
              "range(0, 4)"
            ]
          },
          "execution_count": 42,
          "metadata": {},
          "output_type": "execute_result"
        }
      ],
      "source": [
        "range(4)"
      ]
    },
    {
      "cell_type": "code",
      "execution_count": null,
      "id": "f7170cee-c07a-4e46-88d1-7533767cff21",
      "metadata": {
        "id": "f7170cee-c07a-4e46-88d1-7533767cff21",
        "outputId": "18516d25-60c0-4e0f-92c3-f69177d58c18"
      },
      "outputs": [
        {
          "data": {
            "text/plain": [
              "[0, 1, 2, 3]"
            ]
          },
          "execution_count": 43,
          "metadata": {},
          "output_type": "execute_result"
        }
      ],
      "source": [
        "list(range(4))"
      ]
    },
    {
      "cell_type": "code",
      "execution_count": null,
      "id": "cb6cc3db-eae5-4ce9-bd21-95645b4b6103",
      "metadata": {
        "id": "cb6cc3db-eae5-4ce9-bd21-95645b4b6103"
      },
      "outputs": [],
      "source": [
        "range(start,stop,step)"
      ]
    },
    {
      "cell_type": "code",
      "execution_count": null,
      "id": "ff9390ab-14b7-4e2d-b217-d5c4c9d1954b",
      "metadata": {
        "id": "ff9390ab-14b7-4e2d-b217-d5c4c9d1954b",
        "outputId": "20e4bae5-6ed3-4b81-fe61-8f139a4ed1e4"
      },
      "outputs": [
        {
          "data": {
            "text/plain": [
              "[2, 3, 4]"
            ]
          },
          "execution_count": 45,
          "metadata": {},
          "output_type": "execute_result"
        }
      ],
      "source": [
        "list(range(2,5))"
      ]
    },
    {
      "cell_type": "code",
      "execution_count": null,
      "id": "5f1ef7e5-ea29-49de-83fc-321d365b362c",
      "metadata": {
        "id": "5f1ef7e5-ea29-49de-83fc-321d365b362c",
        "outputId": "5e641a7d-244d-4f49-de18-f0132ef6cdb7"
      },
      "outputs": [
        {
          "name": "stdout",
          "output_type": "stream",
          "text": [
            "2\n",
            "5\n",
            "8\n"
          ]
        }
      ],
      "source": [
        "for i in range(2,9,3):\n",
        "    print(i)"
      ]
    },
    {
      "cell_type": "code",
      "execution_count": null,
      "id": "8ca1de14-8d99-405e-90c1-5792ffe79a22",
      "metadata": {
        "id": "8ca1de14-8d99-405e-90c1-5792ffe79a22",
        "outputId": "4a69de7a-e3ae-4b7d-c2b6-92062d94c2b4"
      },
      "outputs": [
        {
          "name": "stdout",
          "output_type": "stream",
          "text": [
            "india\n",
            "uk\n",
            "germenry\n"
          ]
        }
      ],
      "source": [
        "country=[\"india\",\"uk\",\"germenry\"]\n",
        "\n",
        "for ct in country:\n",
        "    print(ct)"
      ]
    },
    {
      "cell_type": "code",
      "execution_count": null,
      "id": "ac3696fa-8420-45c4-824f-06723d0b8aec",
      "metadata": {
        "id": "ac3696fa-8420-45c4-824f-06723d0b8aec",
        "outputId": "8ea74dda-d6e4-4052-b528-c185771304af"
      },
      "outputs": [
        {
          "name": "stdout",
          "output_type": "stream",
          "text": [
            "india\n",
            "uk\n",
            "germenry\n"
          ]
        }
      ],
      "source": [
        "country=[\"india\",\"uk\",\"germenry\"]\n",
        "\n",
        "\n",
        "for index in range(len(country)):\n",
        "    print(country[index])"
      ]
    },
    {
      "cell_type": "code",
      "execution_count": null,
      "id": "c66e9600-8deb-4ab1-9271-30aa66df5d8f",
      "metadata": {
        "id": "c66e9600-8deb-4ab1-9271-30aa66df5d8f"
      },
      "outputs": [],
      "source": [
        "dict1={\"x1\":1,\"x2\":2,\"x3\":3}"
      ]
    },
    {
      "cell_type": "code",
      "execution_count": null,
      "id": "79d6e811-45e4-4fce-93da-5493f21c008b",
      "metadata": {
        "id": "79d6e811-45e4-4fce-93da-5493f21c008b",
        "outputId": "e8f75571-ca2b-4c2f-fcb6-b82889061d33"
      },
      "outputs": [
        {
          "data": {
            "text/plain": [
              "dict_keys(['x1', 'x2', 'x3'])"
            ]
          },
          "execution_count": 54,
          "metadata": {},
          "output_type": "execute_result"
        }
      ],
      "source": [
        "dict1.keys()"
      ]
    },
    {
      "cell_type": "code",
      "execution_count": null,
      "id": "95d28630-d2b2-4d8e-ae42-ee67671aa7eb",
      "metadata": {
        "id": "95d28630-d2b2-4d8e-ae42-ee67671aa7eb",
        "outputId": "98f8d797-35f5-42f8-8f66-c78c859cf8ad"
      },
      "outputs": [
        {
          "data": {
            "text/plain": [
              "dict_values([1, 2, 3])"
            ]
          },
          "execution_count": 56,
          "metadata": {},
          "output_type": "execute_result"
        }
      ],
      "source": [
        "dict1.values()"
      ]
    },
    {
      "cell_type": "code",
      "execution_count": null,
      "id": "c5c7480f-fbc9-4b8a-bae1-3606b9306936",
      "metadata": {
        "id": "c5c7480f-fbc9-4b8a-bae1-3606b9306936",
        "outputId": "050baf60-5173-47b4-828e-842d0ff2057a"
      },
      "outputs": [
        {
          "name": "stdout",
          "output_type": "stream",
          "text": [
            "x1 1\n",
            "x2 2\n",
            "x3 3\n"
          ]
        }
      ],
      "source": [
        "for key in dict1:\n",
        "    print(key, dict1[key])"
      ]
    },
    {
      "cell_type": "code",
      "execution_count": null,
      "id": "b9866ea5-b546-4ed8-a29e-e8954cbabb60",
      "metadata": {
        "id": "b9866ea5-b546-4ed8-a29e-e8954cbabb60",
        "outputId": "348bcdca-f051-40c4-8bcf-a06a2119914a"
      },
      "outputs": [
        {
          "data": {
            "text/plain": [
              "1"
            ]
          },
          "execution_count": 59,
          "metadata": {},
          "output_type": "execute_result"
        }
      ],
      "source": [
        "dict1['x1']\n"
      ]
    },
    {
      "cell_type": "code",
      "execution_count": null,
      "id": "1e94027c-65f1-48eb-96cd-4994ef5b8227",
      "metadata": {
        "id": "1e94027c-65f1-48eb-96cd-4994ef5b8227",
        "outputId": "8da93065-6bc7-4c1c-a1ba-dcb2d5691ee3"
      },
      "outputs": [
        {
          "name": "stdout",
          "output_type": "stream",
          "text": [
            "x1\n",
            "x2\n",
            "x3\n"
          ]
        }
      ],
      "source": [
        "for i in dict1:\n",
        "    print(i)"
      ]
    },
    {
      "cell_type": "code",
      "execution_count": null,
      "id": "760e004b-bf13-4cd3-845c-dc278238dda0",
      "metadata": {
        "id": "760e004b-bf13-4cd3-845c-dc278238dda0",
        "outputId": "6f59f446-1106-42b0-cfa5-60c4d62dfe38"
      },
      "outputs": [
        {
          "name": "stdout",
          "output_type": "stream",
          "text": [
            "1\n",
            "2\n",
            "3\n"
          ]
        }
      ],
      "source": [
        "for i in dict1.values():\n",
        "    print(i)"
      ]
    },
    {
      "cell_type": "code",
      "execution_count": null,
      "id": "faea5ae0-6072-4a20-bbf6-1f078d068aa8",
      "metadata": {
        "id": "faea5ae0-6072-4a20-bbf6-1f078d068aa8",
        "outputId": "c67749c9-f883-4317-d7eb-26e4e4075ef2"
      },
      "outputs": [
        {
          "name": "stdout",
          "output_type": "stream",
          "text": [
            "1\n",
            "2\n",
            "3\n"
          ]
        }
      ],
      "source": [
        "for i in (1,2,3):\n",
        "    print(i)"
      ]
    },
    {
      "cell_type": "code",
      "execution_count": null,
      "id": "4199586d-4fd1-42bf-a493-1f95ad5ebeb4",
      "metadata": {
        "id": "4199586d-4fd1-42bf-a493-1f95ad5ebeb4",
        "outputId": "4702ff76-a933-4ae2-f6d5-d3298dde62be"
      },
      "outputs": [
        {
          "name": "stdout",
          "output_type": "stream",
          "text": [
            "1\n",
            "2\n",
            "3\n"
          ]
        }
      ],
      "source": [
        "for i in {1,2,3}:\n",
        "    print(i)"
      ]
    },
    {
      "cell_type": "code",
      "execution_count": null,
      "id": "2a883bf6-4e94-44e1-b937-e376aad0f17b",
      "metadata": {
        "id": "2a883bf6-4e94-44e1-b937-e376aad0f17b",
        "outputId": "5cdb9bb0-b9c5-424d-e819-1f6026067891"
      },
      "outputs": [
        {
          "name": "stdout",
          "output_type": "stream",
          "text": [
            "p\n",
            "w\n",
            "s\n",
            "k\n",
            "i\n",
            "l\n",
            "l\n",
            "s\n"
          ]
        }
      ],
      "source": [
        "x=\"pwskills\"\n",
        "\n",
        "for i in x:\n",
        "    print(i)"
      ]
    },
    {
      "cell_type": "code",
      "execution_count": null,
      "id": "42f62134-9629-437c-ab66-4f7819c9369e",
      "metadata": {
        "id": "42f62134-9629-437c-ab66-4f7819c9369e",
        "outputId": "d6f03307-8bbd-461f-987d-c3b98719ad81"
      },
      "outputs": [
        {
          "name": "stdout",
          "output_type": "stream",
          "text": [
            "[0, 1, 2, 3, 4, 5, 6, 7, 8, 9]\n"
          ]
        }
      ],
      "source": [
        "print(list(range(10)))"
      ]
    },
    {
      "cell_type": "code",
      "execution_count": null,
      "id": "394de535-ba1b-4f8f-bcf7-3aa82879e5e5",
      "metadata": {
        "id": "394de535-ba1b-4f8f-bcf7-3aa82879e5e5",
        "outputId": "3ce9a1f0-f156-4f0b-9882-1d94888dc5d1"
      },
      "outputs": [
        {
          "name": "stdout",
          "output_type": "stream",
          "text": [
            "hi @pw@ skills @ineuron @"
          ]
        }
      ],
      "source": [
        "print(\"hi\",end = ' @' )\n",
        "print(\"pw\", end='@ ')\n",
        "print(\"skills\",end = ' @')\n",
        "print(\"ineuron\",end=' @')"
      ]
    },
    {
      "cell_type": "code",
      "execution_count": null,
      "id": "20230d8c-522f-4893-a2cd-062c457d6f6c",
      "metadata": {
        "id": "20230d8c-522f-4893-a2cd-062c457d6f6c",
        "outputId": "1574b8b3-43fe-43e1-92f1-a608ede49f0e"
      },
      "outputs": [
        {
          "name": "stdout",
          "output_type": "stream",
          "text": [
            "0 1 2 3 4 5 6 7 8 9 "
          ]
        }
      ],
      "source": [
        "for i in range(10):\n",
        "    print(i,end=' ')"
      ]
    },
    {
      "cell_type": "code",
      "execution_count": null,
      "id": "a9b805eb-de37-4a5a-b8d8-534a5136b325",
      "metadata": {
        "id": "a9b805eb-de37-4a5a-b8d8-534a5136b325",
        "outputId": "bc57d8da-5ab9-4142-cfe0-cb77791bc1d7"
      },
      "outputs": [
        {
          "name": "stdout",
          "output_type": "stream",
          "text": [
            "0\n",
            "1\n",
            "2\n",
            "3\n",
            "4\n",
            "done\n"
          ]
        }
      ],
      "source": [
        "for i in range(5):\n",
        "    print(i)\n",
        "else:\n",
        "    print(\"done\")"
      ]
    },
    {
      "cell_type": "code",
      "execution_count": null,
      "id": "e3b61934-5e33-4b10-95b0-5448230d2477",
      "metadata": {
        "id": "e3b61934-5e33-4b10-95b0-5448230d2477",
        "outputId": "e5dfc72d-4ebd-4494-a499-49a3a6a72f98"
      },
      "outputs": [
        {
          "name": "stdout",
          "output_type": "stream",
          "text": [
            "* \n",
            "* * \n",
            "* * * \n",
            "* * * * \n",
            "* * * * * \n"
          ]
        }
      ],
      "source": [
        "for i in range(5):\n",
        "    for j in range(i+1):\n",
        "        print(\"*\",end=' ')\n",
        "    print()\n",
        ""
      ]
    },
    {
      "cell_type": "code",
      "execution_count": null,
      "id": "434d7627-cde9-4136-b0e2-bed3824f191f",
      "metadata": {
        "id": "434d7627-cde9-4136-b0e2-bed3824f191f",
        "outputId": "484033d2-f2b3-428c-cec9-37726be1a97c"
      },
      "outputs": [
        {
          "name": "stdout",
          "output_type": "stream",
          "text": [
            "* * * * * \n",
            "* * * * \n",
            "* * * \n",
            "* * \n",
            "* \n"
          ]
        }
      ],
      "source": [
        "for i in range(5,0,-1):\n",
        "    for j in range(i,0,-1):\n",
        "        print(\"*\", end = \" \")\n",
        "    print()\n"
      ]
    },
    {
      "cell_type": "code",
      "execution_count": null,
      "id": "c3c2f923-cff4-496d-9240-efe37a06e8db",
      "metadata": {
        "id": "c3c2f923-cff4-496d-9240-efe37a06e8db",
        "outputId": "bae3e0dc-6370-4290-cd5c-48eba297d92b"
      },
      "outputs": [
        {
          "name": "stdout",
          "output_type": "stream",
          "text": [
            "1 2 3 4 5 \n",
            "2 4 6 8 10 \n",
            "3 6 9 12 15 \n",
            "4 8 12 16 20 \n",
            "5 10 15 20 25 \n"
          ]
        }
      ],
      "source": [
        "for i in range(1,6):\n",
        "    for j in range(1,6):\n",
        "        print(i*j,end=' ')\n",
        "    print()\n"
      ]
    },
    {
      "cell_type": "code",
      "execution_count": null,
      "id": "3888083b-8ae1-4319-a90b-006cfe66a7fd",
      "metadata": {
        "id": "3888083b-8ae1-4319-a90b-006cfe66a7fd",
        "outputId": "59129a73-c6ba-4b12-a321-3c5ab75e1600"
      },
      "outputs": [
        {
          "name": "stdout",
          "output_type": "stream",
          "text": [
            "1\n",
            "2\n",
            "3\n",
            "4\n",
            "5\n"
          ]
        }
      ],
      "source": [
        "count=1\n",
        "\n",
        "while count<=5:\n",
        "    print(count)\n",
        "    count +=1\n",
        "    #count=count+1"
      ]
    },
    {
      "cell_type": "code",
      "execution_count": null,
      "id": "58dff442-81f2-48cd-9845-416518267e9b",
      "metadata": {
        "id": "58dff442-81f2-48cd-9845-416518267e9b",
        "outputId": "05d3885e-c8dd-4d5c-8d24-ada480a3d952"
      },
      "outputs": [
        {
          "name": "stdin",
          "output_type": "stream",
          "text": [
            "enter a word i\n"
          ]
        },
        {
          "name": "stdout",
          "output_type": "stream",
          "text": [
            "You entered  i\n"
          ]
        },
        {
          "name": "stdin",
          "output_type": "stream",
          "text": [
            "enter a word o\n"
          ]
        },
        {
          "name": "stdout",
          "output_type": "stream",
          "text": [
            "You entered  o\n"
          ]
        },
        {
          "name": "stdin",
          "output_type": "stream",
          "text": [
            "enter a word p\n"
          ]
        },
        {
          "name": "stdout",
          "output_type": "stream",
          "text": [
            "You entered  p\n"
          ]
        },
        {
          "name": "stdin",
          "output_type": "stream",
          "text": [
            "enter a word a\n"
          ]
        },
        {
          "name": "stdout",
          "output_type": "stream",
          "text": [
            "You entered  a\n"
          ]
        },
        {
          "name": "stdin",
          "output_type": "stream",
          "text": [
            "enter a word quit\n"
          ]
        },
        {
          "name": "stdout",
          "output_type": "stream",
          "text": [
            "You entered  quit\n"
          ]
        }
      ],
      "source": [
        "text = \" \"\n",
        "\n",
        "while text != \"quit\":\n",
        "    text= input(\"enter a word\")\n",
        "    print(\"You entered \", text)"
      ]
    },
    {
      "cell_type": "code",
      "execution_count": null,
      "id": "a7e23998-8bdf-4a06-bf9c-4c05c4de4f34",
      "metadata": {
        "id": "a7e23998-8bdf-4a06-bf9c-4c05c4de4f34"
      },
      "outputs": [],
      "source": []
    },
    {
      "cell_type": "code",
      "execution_count": null,
      "id": "556e5655-aaad-4049-bc54-ae9358d68f8e",
      "metadata": {
        "id": "556e5655-aaad-4049-bc54-ae9358d68f8e"
      },
      "outputs": [],
      "source": [
        "if you know how times you will iterate go with for loop\n",
        "if you dont know how times you will iterate go with while loop"
      ]
    },
    {
      "cell_type": "code",
      "execution_count": null,
      "id": "20828f9b-e95d-453b-8acb-9cea4da2acad",
      "metadata": {
        "id": "20828f9b-e95d-453b-8acb-9cea4da2acad",
        "outputId": "ee917e55-024e-4a10-ec65-2a4aeec7b93f"
      },
      "outputs": [
        {
          "name": "stdin",
          "output_type": "stream",
          "text": [
            "enter the age 45\n"
          ]
        },
        {
          "name": "stdout",
          "output_type": "stream",
          "text": [
            "you entered  45\n"
          ]
        },
        {
          "name": "stdin",
          "output_type": "stream",
          "text": [
            "enter the age 67\n"
          ]
        },
        {
          "name": "stdout",
          "output_type": "stream",
          "text": [
            "you entered  67\n"
          ]
        },
        {
          "name": "stdin",
          "output_type": "stream",
          "text": [
            "enter the age 78\n"
          ]
        },
        {
          "name": "stdout",
          "output_type": "stream",
          "text": [
            "you entered  78\n"
          ]
        },
        {
          "name": "stdin",
          "output_type": "stream",
          "text": [
            "enter the age 23\n"
          ]
        },
        {
          "name": "stdout",
          "output_type": "stream",
          "text": [
            "you entered  23\n"
          ]
        }
      ],
      "source": [
        "\n",
        "# guess the age\n",
        "\n",
        "age = 0\n",
        "\n",
        "while age!=23:\n",
        "    age = int(input('enter the age'))\n",
        "    print('you entered ',age)\n",
        "\n"
      ]
    },
    {
      "cell_type": "code",
      "execution_count": null,
      "id": "ab067039-2212-4927-9850-aab8fbf71dfd",
      "metadata": {
        "id": "ab067039-2212-4927-9850-aab8fbf71dfd",
        "outputId": "6264a845-d72a-454e-f796-fda097971827"
      },
      "outputs": [
        {
          "name": "stdin",
          "output_type": "stream",
          "text": [
            "Enter Your age  56\n"
          ]
        },
        {
          "name": "stdout",
          "output_type": "stream",
          "text": [
            "invalid age\n"
          ]
        },
        {
          "name": "stdin",
          "output_type": "stream",
          "text": [
            "Enter Your age  45\n"
          ]
        },
        {
          "name": "stdout",
          "output_type": "stream",
          "text": [
            "invalid age\n"
          ]
        },
        {
          "name": "stdin",
          "output_type": "stream",
          "text": [
            "Enter Your age  23\n"
          ]
        },
        {
          "name": "stdout",
          "output_type": "stream",
          "text": [
            "invalid age\n",
            "Age is  from list\n"
          ]
        }
      ],
      "source": [
        "list1=[23,23,22,21,20]\n",
        "age=0;\n",
        "while age not in list1:\n",
        "    age = int(input(\"Enter Your age \"))\n",
        "    print(\"invalid age\")\n",
        "else:\n",
        "    print(\"Age is  from list\");\n"
      ]
    }
  ],
  "metadata": {
    "kernelspec": {
      "display_name": "Python 3 (ipykernel)",
      "language": "python",
      "name": "python3"
    },
    "language_info": {
      "codemirror_mode": {
        "name": "ipython",
        "version": 3
      },
      "file_extension": ".py",
      "mimetype": "text/x-python",
      "name": "python",
      "nbconvert_exporter": "python",
      "pygments_lexer": "ipython3",
      "version": "3.10.8"
    },
    "colab": {
      "provenance": []
    }
  },
  "nbformat": 4,
  "nbformat_minor": 5
}